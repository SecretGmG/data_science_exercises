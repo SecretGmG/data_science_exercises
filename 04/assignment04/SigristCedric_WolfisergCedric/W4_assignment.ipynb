{
 "cells": [
  {
   "cell_type": "markdown",
   "metadata": {},
   "source": [
    "<h2><center>Week 4 - Assignment</center></h2>\n",
    "<h3><center>Programming for Data Science 2025</center></h3>"
   ]
  },
  {
   "cell_type": "markdown",
   "metadata": {},
   "source": [
    "Exercises for the topics covered in the fourth lecture.\n",
    "\n",
    "The exercise will be marked as passed if you get **at least 10/15** points.\n",
    "\n",
    "Exercises must be handed in via **ILIAS** (Homework assignments). Deliver your submission as a compressed file (zip) containing one .py or .ipynb file with all exercises. The name of both the .zip and the .py/.ipynb file must be *SurnameName* of the two members of the group. Example: Annina Helmy + Markus Anwander = *HelmyAnnina_AnwanderMarkus.zip* .\n",
    "\n",
    "It's important to use comments to explain your code and show that you're able to take ownership of the exercises and discuss them.\n",
    "\n",
    "You are not expected to collaborate outside of the group on exercises and submitting other groups’ code as your own will result in 0 points.\n",
    "\n",
    "For question about the lecture content or exam, contact: *annina.helmy@students.unibe.ch* with the subject: *Programming for Data Science 2025 - Lecture XY*.\n",
    "For questions about the excercise/grading of excercises, contact: *thea.waldleben@students.unibe.ch* or *patricia.gribi@students.unibe.ch* with the subject: *Programming for Data Science 2025 - Excercise XY*.\n",
    "**Deadline: 14:00, March 20, 2025.**"
   ]
  },
  {
   "cell_type": "markdown",
   "metadata": {},
   "source": [
    "<h3 style=\"text-align:left;\">Exercise 1 - Create Dataframes<span style=\"float: right\">5 points</span></h3>"
   ]
  },
  {
   "cell_type": "markdown",
   "metadata": {},
   "source": [
    "Create a DataFrame *episodes_df* with the columns **ses**, **ep**, and **title**, as below:\n",
    "\n",
    "|**ses**|**ep**|**title**|\n",
    "|:---|:---|:---|\n",
    "|1|1|One|\n",
    "|1|2|Two|\n",
    "|2|1|Three|\n",
    "|2|2|Four|\n",
    "\n",
    "Create a DataFrame *imdb_df* with the columns **ses**, **ep**, and **score**, as below:\n",
    "\n",
    "|**ses**|**ep**|**score**|\n",
    "|:---|:---|:---|\n",
    "|1|1|8.4|\n",
    "|1|2|8.1|\n",
    "|2|1|7.9|\n",
    "|2|2|7.7|\n",
    "\n",
    "Merge the two DataFrames. Then, find and print the title of the episode with the higest score.\n",
    "\n",
    "💡**Hint**: To merge the two dataframes you have to use the *merge* method:\n",
    "```python\n",
    "merged_df = episodes_df.merge(imdb_df, on=['ses', 'ep'])\n",
    "```\n",
    "\n",
    "\n",
    "1. By manipulating the dataframes, find and print the title of the episode with the higest score. (*3 points*)"
   ]
  },
  {
   "cell_type": "code",
   "execution_count": 2,
   "metadata": {},
   "outputs": [],
   "source": [
    "import pandas as pd"
   ]
  },
  {
   "cell_type": "code",
   "execution_count": 3,
   "metadata": {},
   "outputs": [
    {
     "name": "stdout",
     "output_type": "stream",
     "text": [
      "Max Score: \n",
      "8.4\n"
     ]
    }
   ],
   "source": [
    "###\n",
    "# YOUR CODE HERE\n",
    "###\n",
    "data_title = {\n",
    "    \"Ses\": [1, 1, 2, 2],\n",
    "    \"Ep\": [1, 2, 1, 2],\n",
    "    \"Tilte\": [\"One\", \"Two\", \"Three\", \"Four\"]\n",
    "}\n",
    "data_score = {\n",
    "    \"Ses\": [1, 1, 2, 2],\n",
    "    \"Ep\": [1, 2, 1, 2],\n",
    "    \"Score\": [8.4, 8.1, 7.9, 7.7]\n",
    "}\n",
    "\n",
    "\n",
    "episodes_df = pd.DataFrame(data_title)\n",
    "imbd_df = pd.DataFrame(data_score)\n",
    "merged_df = episodes_df.merge(imbd_df, on=['Ses','Ep'])\n",
    "high_score = merged_df[\"Score\"].max()\n",
    "print(\"Max Score: \")\n",
    "print(high_score)"
   ]
  },
  {
   "cell_type": "markdown",
   "metadata": {},
   "source": [
    "2. Change the **score** of the entry with the title \"Three\" in the DataFrame you created in Task 1 and print the result. The new score should be 6. (*2 points*)"
   ]
  },
  {
   "cell_type": "code",
   "execution_count": 4,
   "metadata": {},
   "outputs": [
    {
     "name": "stdout",
     "output_type": "stream",
     "text": [
      "   Ses  Ep  Tilte  Score\n",
      "0    1   1    One    8.4\n",
      "1    1   2    Two    8.1\n",
      "2    2   1  Three    6.0\n",
      "3    2   2   Four    7.7\n"
     ]
    }
   ],
   "source": [
    "###\n",
    "# YOUR CODE HERE\n",
    "###\n",
    "merged_df.loc[(merged_df['Tilte'] == \"Three\"), 'Score'] = 6\n",
    "print(merged_df)"
   ]
  },
  {
   "cell_type": "markdown",
   "metadata": {},
   "source": [
    "<h3 style=\"text-align:left;\">Exercise 2 - Load DataFrames<span style=\"float: right\">6 points</span></h3>"
   ]
  },
  {
   "cell_type": "markdown",
   "metadata": {},
   "source": [
    "1. Load the dataset `spotify_songs.csv` in the data folder. **(2 points)**\n",
    "- Display the first five rows of the dataset. *(0.5 points)*\n",
    "- Check the number of rows and columns *(0.5 points)*\n",
    "- Display the column names of the dataset. *(0.5 points)*\n",
    "- Count the number of missing values in each column and drop the rows with the missing values. *(0.5 points)*\n",
    "\n",
    "```python\n",
    "spotify_df = pd.read_csv('./data/spotify_songs.csv')\n",
    "```\n",
    "```"
   ]
  },
  {
   "cell_type": "code",
   "execution_count": 5,
   "metadata": {},
   "outputs": [
    {
     "data": {
      "application/vnd.microsoft.datawrangler.viewer.v0+json": {
       "columns": [
        {
         "name": "index",
         "rawType": "int64",
         "type": "integer"
        },
        {
         "name": "spotify_id",
         "rawType": "object",
         "type": "string"
        },
        {
         "name": "name",
         "rawType": "object",
         "type": "string"
        },
        {
         "name": "artists",
         "rawType": "object",
         "type": "string"
        },
        {
         "name": "daily_rank",
         "rawType": "int64",
         "type": "integer"
        },
        {
         "name": "daily_movement",
         "rawType": "int64",
         "type": "integer"
        },
        {
         "name": "weekly_movement",
         "rawType": "int64",
         "type": "integer"
        },
        {
         "name": "country",
         "rawType": "object",
         "type": "unknown"
        },
        {
         "name": "snapshot_date",
         "rawType": "object",
         "type": "string"
        },
        {
         "name": "popularity",
         "rawType": "int64",
         "type": "integer"
        },
        {
         "name": "is_explicit",
         "rawType": "bool",
         "type": "boolean"
        },
        {
         "name": "duration_ms",
         "rawType": "int64",
         "type": "integer"
        },
        {
         "name": "album_name",
         "rawType": "object",
         "type": "string"
        },
        {
         "name": "album_release_date",
         "rawType": "object",
         "type": "string"
        },
        {
         "name": "danceability",
         "rawType": "float64",
         "type": "float"
        },
        {
         "name": "energy",
         "rawType": "float64",
         "type": "float"
        },
        {
         "name": "key",
         "rawType": "int64",
         "type": "integer"
        },
        {
         "name": "loudness",
         "rawType": "float64",
         "type": "float"
        },
        {
         "name": "mode",
         "rawType": "int64",
         "type": "integer"
        },
        {
         "name": "speechiness",
         "rawType": "float64",
         "type": "float"
        },
        {
         "name": "acousticness",
         "rawType": "float64",
         "type": "float"
        },
        {
         "name": "instrumentalness",
         "rawType": "float64",
         "type": "float"
        },
        {
         "name": "liveness",
         "rawType": "float64",
         "type": "float"
        },
        {
         "name": "valence",
         "rawType": "float64",
         "type": "float"
        },
        {
         "name": "tempo",
         "rawType": "float64",
         "type": "float"
        },
        {
         "name": "time_signature",
         "rawType": "int64",
         "type": "integer"
        }
       ],
       "conversionMethod": "pd.DataFrame",
       "ref": "ce3dfdfa-961e-4984-ba2d-387ea228b2dc",
       "rows": [
        [
         "0",
         "2plbrEY59IikOBgBGLjaoe",
         "Die With A Smile",
         "Lady Gaga, Bruno Mars",
         "1",
         "1",
         "0",
         null,
         "2025-02-17",
         "98",
         "False",
         "251667",
         "Die With A Smile",
         "2024-08-16",
         "0.521",
         "0.592",
         "6",
         "-7.777",
         "0",
         "0.0304",
         "0.308",
         "0.0",
         "0.122",
         "0.535",
         "157.969",
         "3"
        ],
        [
         "1",
         "2CGNAOSuO1MEFCbBRgUzjd",
         "luther (with sza)",
         "Kendrick Lamar, SZA",
         "2",
         "1",
         "4",
         null,
         "2025-02-17",
         "90",
         "False",
         "177598",
         "GNX",
         "2024-11-21",
         "0.707",
         "0.575",
         "2",
         "-7.546",
         "1",
         "0.125",
         "0.251",
         "0.0",
         "0.248",
         "0.576",
         "138.008",
         "4"
        ],
        [
         "2",
         "6AI3ezQ4o3HUoP6Dhudph3",
         "Not Like Us",
         "Kendrick Lamar",
         "3",
         "-2",
         "8",
         null,
         "2025-02-17",
         "92",
         "True",
         "274192",
         "Not Like Us",
         "2024-05-04",
         "0.898",
         "0.472",
         "1",
         "-7.001",
         "1",
         "0.0776",
         "0.0107",
         "0.0",
         "0.141",
         "0.214",
         "101.061",
         "4"
        ],
        [
         "3",
         "4wJ5Qq0jBN4ajy7ouZIV1c",
         "APT.",
         "ROSÉ, Bruno Mars",
         "4",
         "0",
         "-2",
         null,
         "2025-02-17",
         "89",
         "False",
         "169917",
         "rosie",
         "2024-12-06",
         "0.777",
         "0.783",
         "0",
         "-4.477",
         "0",
         "0.26",
         "0.0283",
         "0.0",
         "0.355",
         "0.939",
         "149.027",
         "4"
        ],
        [
         "4",
         "6dOtVTDdiauQNBQEDOtlAB",
         "BIRDS OF A FEATHER",
         "Billie Eilish",
         "5",
         "1",
         "-2",
         null,
         "2025-02-17",
         "96",
         "False",
         "210373",
         "HIT ME HARD AND SOFT",
         "2024-05-17",
         "0.747",
         "0.507",
         "2",
         "-10.171",
         "1",
         "0.0358",
         "0.2",
         "0.0608",
         "0.117",
         "0.438",
         "104.978",
         "4"
        ]
       ],
       "shape": {
        "columns": 25,
        "rows": 5
       }
      },
      "text/html": [
       "<div>\n",
       "<style scoped>\n",
       "    .dataframe tbody tr th:only-of-type {\n",
       "        vertical-align: middle;\n",
       "    }\n",
       "\n",
       "    .dataframe tbody tr th {\n",
       "        vertical-align: top;\n",
       "    }\n",
       "\n",
       "    .dataframe thead th {\n",
       "        text-align: right;\n",
       "    }\n",
       "</style>\n",
       "<table border=\"1\" class=\"dataframe\">\n",
       "  <thead>\n",
       "    <tr style=\"text-align: right;\">\n",
       "      <th></th>\n",
       "      <th>spotify_id</th>\n",
       "      <th>name</th>\n",
       "      <th>artists</th>\n",
       "      <th>daily_rank</th>\n",
       "      <th>daily_movement</th>\n",
       "      <th>weekly_movement</th>\n",
       "      <th>country</th>\n",
       "      <th>snapshot_date</th>\n",
       "      <th>popularity</th>\n",
       "      <th>is_explicit</th>\n",
       "      <th>...</th>\n",
       "      <th>key</th>\n",
       "      <th>loudness</th>\n",
       "      <th>mode</th>\n",
       "      <th>speechiness</th>\n",
       "      <th>acousticness</th>\n",
       "      <th>instrumentalness</th>\n",
       "      <th>liveness</th>\n",
       "      <th>valence</th>\n",
       "      <th>tempo</th>\n",
       "      <th>time_signature</th>\n",
       "    </tr>\n",
       "  </thead>\n",
       "  <tbody>\n",
       "    <tr>\n",
       "      <th>0</th>\n",
       "      <td>2plbrEY59IikOBgBGLjaoe</td>\n",
       "      <td>Die With A Smile</td>\n",
       "      <td>Lady Gaga, Bruno Mars</td>\n",
       "      <td>1</td>\n",
       "      <td>1</td>\n",
       "      <td>0</td>\n",
       "      <td>NaN</td>\n",
       "      <td>2025-02-17</td>\n",
       "      <td>98</td>\n",
       "      <td>False</td>\n",
       "      <td>...</td>\n",
       "      <td>6</td>\n",
       "      <td>-7.777</td>\n",
       "      <td>0</td>\n",
       "      <td>0.0304</td>\n",
       "      <td>0.3080</td>\n",
       "      <td>0.0000</td>\n",
       "      <td>0.122</td>\n",
       "      <td>0.535</td>\n",
       "      <td>157.969</td>\n",
       "      <td>3</td>\n",
       "    </tr>\n",
       "    <tr>\n",
       "      <th>1</th>\n",
       "      <td>2CGNAOSuO1MEFCbBRgUzjd</td>\n",
       "      <td>luther (with sza)</td>\n",
       "      <td>Kendrick Lamar, SZA</td>\n",
       "      <td>2</td>\n",
       "      <td>1</td>\n",
       "      <td>4</td>\n",
       "      <td>NaN</td>\n",
       "      <td>2025-02-17</td>\n",
       "      <td>90</td>\n",
       "      <td>False</td>\n",
       "      <td>...</td>\n",
       "      <td>2</td>\n",
       "      <td>-7.546</td>\n",
       "      <td>1</td>\n",
       "      <td>0.1250</td>\n",
       "      <td>0.2510</td>\n",
       "      <td>0.0000</td>\n",
       "      <td>0.248</td>\n",
       "      <td>0.576</td>\n",
       "      <td>138.008</td>\n",
       "      <td>4</td>\n",
       "    </tr>\n",
       "    <tr>\n",
       "      <th>2</th>\n",
       "      <td>6AI3ezQ4o3HUoP6Dhudph3</td>\n",
       "      <td>Not Like Us</td>\n",
       "      <td>Kendrick Lamar</td>\n",
       "      <td>3</td>\n",
       "      <td>-2</td>\n",
       "      <td>8</td>\n",
       "      <td>NaN</td>\n",
       "      <td>2025-02-17</td>\n",
       "      <td>92</td>\n",
       "      <td>True</td>\n",
       "      <td>...</td>\n",
       "      <td>1</td>\n",
       "      <td>-7.001</td>\n",
       "      <td>1</td>\n",
       "      <td>0.0776</td>\n",
       "      <td>0.0107</td>\n",
       "      <td>0.0000</td>\n",
       "      <td>0.141</td>\n",
       "      <td>0.214</td>\n",
       "      <td>101.061</td>\n",
       "      <td>4</td>\n",
       "    </tr>\n",
       "    <tr>\n",
       "      <th>3</th>\n",
       "      <td>4wJ5Qq0jBN4ajy7ouZIV1c</td>\n",
       "      <td>APT.</td>\n",
       "      <td>ROSÉ, Bruno Mars</td>\n",
       "      <td>4</td>\n",
       "      <td>0</td>\n",
       "      <td>-2</td>\n",
       "      <td>NaN</td>\n",
       "      <td>2025-02-17</td>\n",
       "      <td>89</td>\n",
       "      <td>False</td>\n",
       "      <td>...</td>\n",
       "      <td>0</td>\n",
       "      <td>-4.477</td>\n",
       "      <td>0</td>\n",
       "      <td>0.2600</td>\n",
       "      <td>0.0283</td>\n",
       "      <td>0.0000</td>\n",
       "      <td>0.355</td>\n",
       "      <td>0.939</td>\n",
       "      <td>149.027</td>\n",
       "      <td>4</td>\n",
       "    </tr>\n",
       "    <tr>\n",
       "      <th>4</th>\n",
       "      <td>6dOtVTDdiauQNBQEDOtlAB</td>\n",
       "      <td>BIRDS OF A FEATHER</td>\n",
       "      <td>Billie Eilish</td>\n",
       "      <td>5</td>\n",
       "      <td>1</td>\n",
       "      <td>-2</td>\n",
       "      <td>NaN</td>\n",
       "      <td>2025-02-17</td>\n",
       "      <td>96</td>\n",
       "      <td>False</td>\n",
       "      <td>...</td>\n",
       "      <td>2</td>\n",
       "      <td>-10.171</td>\n",
       "      <td>1</td>\n",
       "      <td>0.0358</td>\n",
       "      <td>0.2000</td>\n",
       "      <td>0.0608</td>\n",
       "      <td>0.117</td>\n",
       "      <td>0.438</td>\n",
       "      <td>104.978</td>\n",
       "      <td>4</td>\n",
       "    </tr>\n",
       "  </tbody>\n",
       "</table>\n",
       "<p>5 rows × 25 columns</p>\n",
       "</div>"
      ],
      "text/plain": [
       "               spotify_id                name                artists  \\\n",
       "0  2plbrEY59IikOBgBGLjaoe    Die With A Smile  Lady Gaga, Bruno Mars   \n",
       "1  2CGNAOSuO1MEFCbBRgUzjd   luther (with sza)    Kendrick Lamar, SZA   \n",
       "2  6AI3ezQ4o3HUoP6Dhudph3         Not Like Us         Kendrick Lamar   \n",
       "3  4wJ5Qq0jBN4ajy7ouZIV1c                APT.       ROSÉ, Bruno Mars   \n",
       "4  6dOtVTDdiauQNBQEDOtlAB  BIRDS OF A FEATHER          Billie Eilish   \n",
       "\n",
       "   daily_rank  daily_movement  weekly_movement country snapshot_date  \\\n",
       "0           1               1                0     NaN    2025-02-17   \n",
       "1           2               1                4     NaN    2025-02-17   \n",
       "2           3              -2                8     NaN    2025-02-17   \n",
       "3           4               0               -2     NaN    2025-02-17   \n",
       "4           5               1               -2     NaN    2025-02-17   \n",
       "\n",
       "   popularity  is_explicit  ...  key loudness mode  speechiness  acousticness  \\\n",
       "0          98        False  ...    6   -7.777    0       0.0304        0.3080   \n",
       "1          90        False  ...    2   -7.546    1       0.1250        0.2510   \n",
       "2          92         True  ...    1   -7.001    1       0.0776        0.0107   \n",
       "3          89        False  ...    0   -4.477    0       0.2600        0.0283   \n",
       "4          96        False  ...    2  -10.171    1       0.0358        0.2000   \n",
       "\n",
       "   instrumentalness  liveness  valence    tempo  time_signature  \n",
       "0            0.0000     0.122    0.535  157.969               3  \n",
       "1            0.0000     0.248    0.576  138.008               4  \n",
       "2            0.0000     0.141    0.214  101.061               4  \n",
       "3            0.0000     0.355    0.939  149.027               4  \n",
       "4            0.0608     0.117    0.438  104.978               4  \n",
       "\n",
       "[5 rows x 25 columns]"
      ]
     },
     "metadata": {},
     "output_type": "display_data"
    },
    {
     "name": "stdout",
     "output_type": "stream",
     "text": [
      "Number of rows and collumns: (10000, 25)\n"
     ]
    },
    {
     "data": {
      "text/plain": [
       "spotify_id              0\n",
       "name                    0\n",
       "artists                 0\n",
       "daily_rank              0\n",
       "daily_movement          0\n",
       "weekly_movement         0\n",
       "country               150\n",
       "snapshot_date           0\n",
       "popularity              0\n",
       "is_explicit             0\n",
       "duration_ms             0\n",
       "album_name              0\n",
       "album_release_date      0\n",
       "danceability            0\n",
       "energy                  0\n",
       "key                     0\n",
       "loudness                0\n",
       "mode                    0\n",
       "speechiness             0\n",
       "acousticness            0\n",
       "instrumentalness        0\n",
       "liveness                0\n",
       "valence                 0\n",
       "tempo                   0\n",
       "time_signature          0\n",
       "dtype: int64"
      ]
     },
     "metadata": {},
     "output_type": "display_data"
    }
   ],
   "source": [
    "###\n",
    "# YOUR CODE HERE\n",
    "###\n",
    "\n",
    "spotify_df = pd.read_csv('./data/spotify_songs.csv')\n",
    "\n",
    "display(spotify_df.head(5))\n",
    "\n",
    "# get shape of df\n",
    "print(f'Number of rows and collumns: {spotify_df.shape}')\n",
    "\n",
    "# get missing values per collumn\n",
    "missing_per_collumn = spotify_df.isna().sum()\n",
    "display(missing_per_collumn)\n",
    "\n",
    "# drop the rows with missing values\n",
    "cleaned_spotify_df = spotify_df.dropna()"
   ]
  },
  {
   "cell_type": "markdown",
   "metadata": {},
   "source": [
    "2. Analyzing Dataset **(4 points)**\n",
    "\n",
    "**Work with the cleaned dataset**.\n",
    "\n",
    "- Find the songs with the highest rank (`daily_rank`) on the 17.02.2025 (`snapshot_date`). Print the song name and the artist and the country in which the song had highest rank. *(0.5 points)*\n",
    "- Find the song with the lowest daily rank on the 17.02.2025. Print the song name and the artist and the country in which the song had highest rank. *(0.5 points)*\n",
    "- Map the country abbreviations to the full country names. (e.g. ZA -> South Africa) (on the whole cleaned spotify dataset). Meaning you should create a new column where we have the full country name written. *(0.5 points)*\n",
    "- Plot the artists who had the most songs in this spotify list in Switzerland on the 17.02.2025. Use a bar plot (e.g. x-axis: artist name, y-axis: number of songs).\n",
    "    - Python: `plt.bar(x = artists_values.index, height = artists_values.values)`. *(1 point)*\n",
    "- Calculate the mean and median popularity per song on the 17.02.2025 (across the cleaned dataset). Print the results. (Hint: https://pandas.pydata.org/docs/reference/api/pandas.DataFrame.groupby.html; group by the song name). *(1 point)*\n",
    "- Determine the average danceability score of songs by Billie Eilish. *(0.5 points)*"
   ]
  },
  {
   "cell_type": "code",
   "execution_count": 6,
   "metadata": {},
   "outputs": [],
   "source": [
    "country_dict = {\n",
    "    'ZA': 'South Africa',\n",
    "    'VN': 'Vietnam',\n",
    "    'VE': 'Venezuela',\n",
    "    'UY': 'Uruguay',\n",
    "    'US': 'United States',\n",
    "    'UA': 'Ukraine',\n",
    "    'TW': 'Taiwan',\n",
    "    'TR': 'Turkey',\n",
    "    'TH': 'Thailand',\n",
    "    'SV': 'El Salvador',\n",
    "    'SK': 'Slovakia',\n",
    "    'SG': 'Singapore',\n",
    "    'SE': 'Sweden',\n",
    "    'SA': 'Saudi Arabia',\n",
    "    'RO': 'Romania',\n",
    "    'PY': 'Paraguay',\n",
    "    'PT': 'Portugal',\n",
    "    'PL': 'Poland',\n",
    "    'PK': 'Pakistan',\n",
    "    'PH': 'Philippines',\n",
    "    'PE': 'Peru',\n",
    "    'PA': 'Panama',\n",
    "    'NZ': 'New Zealand',\n",
    "    'NO': 'Norway',\n",
    "    'NL': 'Netherlands',\n",
    "    'NI': 'Nicaragua',\n",
    "    'NG': 'Nigeria',\n",
    "    'MY': 'Malaysia',\n",
    "    'MX': 'Mexico',\n",
    "    'MA': 'Morocco',\n",
    "    'LV': 'Latvia',\n",
    "    'LU': 'Luxembourg',\n",
    "    'LT': 'Lithuania',\n",
    "    'KZ': 'Kazakhstan',\n",
    "    'KR': 'South Korea',\n",
    "    'JP': 'Japan',\n",
    "    'IT': 'Italy',\n",
    "    'IS': 'Iceland',\n",
    "    'IN': 'India',\n",
    "    'IL': 'Israel',\n",
    "    'IE': 'Ireland',\n",
    "    'ID': 'Indonesia',\n",
    "    'HU': 'Hungary',\n",
    "    'HN': 'Honduras',\n",
    "    'HK': 'Hong Kong',\n",
    "    'GT': 'Guatemala',\n",
    "    'GR': 'Greece',\n",
    "    'FR': 'France',\n",
    "    'FI': 'Finland',\n",
    "    'ES': 'Spain',\n",
    "    'EG': 'Egypt',\n",
    "    'EE': 'Estonia',\n",
    "    'EC': 'Ecuador',\n",
    "    'DO': 'Dominican Republic',\n",
    "    'DK': 'Denmark',\n",
    "    'DE': 'Germany',\n",
    "    'CZ': 'Czech Republic',\n",
    "    'CR': 'Costa Rica',\n",
    "    'CO': 'Colombia',\n",
    "    'CL': 'Chile',\n",
    "    'CH': 'Switzerland',\n",
    "    'CA': 'Canada',\n",
    "    'BY': 'Belarus',\n",
    "    'BR': 'Brazil',\n",
    "    'BO': 'Bolivia',\n",
    "    'BG': 'Bulgaria',\n",
    "    'BE': 'Belgium',\n",
    "    'AU': 'Australia',\n",
    "    'AT': 'Austria',\n",
    "    'AR': 'Argentina',\n",
    "    'AE': 'United Arab Emirates',\n",
    "    'GB': 'United Kingdom'\n",
    "}"
   ]
  },
  {
   "cell_type": "code",
   "execution_count": 21,
   "metadata": {},
   "outputs": [
    {
     "name": "stdout",
     "output_type": "stream",
     "text": [
      "highest_score: \n",
      "                                     name                        artists  \\\n",
      "50                      luther (with sza)            Kendrick Lamar, SZA   \n",
      "100   Seven (feat. Latto) (Explicit Ver.)               Jung Kook, Latto   \n",
      "150                                 VeLDÁ  Bad Bunny, Omar Courtz, Dei V   \n",
      "200                          Amor de Vago          La T y La M, Malandro   \n",
      "250                     luther (with sza)            Kendrick Lamar, SZA   \n",
      "...                                   ...                            ...   \n",
      "3338                                 APT.               ROSÉ, Bruno Mars   \n",
      "3388                    luther (with sza)            Kendrick Lamar, SZA   \n",
      "3438                        Wackelkontakt                         Oimara   \n",
      "3488                         Amor de Vago          La T y La M, Malandro   \n",
      "3538                         Running Wild                            Jin   \n",
      "\n",
      "     country  \n",
      "50        ZA  \n",
      "100       VN  \n",
      "150       VE  \n",
      "200       UY  \n",
      "250       US  \n",
      "...      ...  \n",
      "3338      BE  \n",
      "3388      AU  \n",
      "3438      AT  \n",
      "3488      AR  \n",
      "3538      AE  \n",
      "\n",
      "[71 rows x 3 columns]\n",
      "lowest Score:\n",
      "                 spotify_id                           name    artists  \\\n",
      "149  3Alwi53Ahc2GwHgvel42b2  Ngày Đẹp Trời Để Nói Chia Tay  Lou Hoàng   \n",
      "\n",
      "     daily_rank  daily_movement  weekly_movement country snapshot_date  \\\n",
      "149          50               0                0      VN    2025-02-17   \n",
      "\n",
      "     popularity  is_explicit  ...  loudness mode speechiness  acousticness  \\\n",
      "149          60        False  ...    -5.989    1      0.0297         0.606   \n",
      "\n",
      "     instrumentalness  liveness  valence    tempo  time_signature  \\\n",
      "149          0.000004     0.104    0.716  107.993               4   \n",
      "\n",
      "     full_country  \n",
      "149       Vietnam  \n",
      "\n",
      "[1 rows x 26 columns]\n",
      "                spotify_id                                               name  \\\n",
      "50  2CGNAOSuO1MEFCbBRgUzjd                                  luther (with sza)   \n",
      "51  021iZJ1jjc6cZZ4sMXvcW9                                     Romeo & Juliet   \n",
      "52  24fRfn3FOM4xk02aE4wief                            Vuka (feat. Thukuthela)   \n",
      "53  2LeOHKRLm1Bz7eeNVinUYs                                          Esandleni   \n",
      "54  4QdFYz1hjkDVDTqAKmIdOx  Ngibolekeni (feat. Seun1401, LeeMcKrazy, Blxck...   \n",
      "55  1F3J7D5byxTWbEyhpizptk  Uyaphapha Marn (feat. Scotts Maphuma & Kabelo ...   \n",
      "56  5Nz7hI3cCOHmMR4vSLJ1An                                        GIMME A HUG   \n",
      "57  7hO6BIPeHb0Y5v9bgXoxKg                                    Sohlala Sisonke   \n",
      "58  6AI3ezQ4o3HUoP6Dhudph3                                        Not Like Us   \n",
      "59  2f6K1uDICmz5TrZ7wAHdUm                                       Uyena - Live   \n",
      "\n",
      "                                              artists  daily_rank  \\\n",
      "50                                Kendrick Lamar, SZA           1   \n",
      "51                            Naledi Aphiwe, Mawelele           2   \n",
      "52                    Oscar Mbo, Jazzworx, Thukuthela           3   \n",
      "53                                   Nontokozo Mkhize           4   \n",
      "54  DJ Maphorisa, Xduppy, Scotts Maphuma, Seun1401...           5   \n",
      "55  TNK MusiQ, DJ Maphorisa, Seun1401, Scotts Maph...           6   \n",
      "56                                              Drake           7   \n",
      "57          Dlala Thukzin, Zeh McGeba, MK Productions           8   \n",
      "58                                     Kendrick Lamar           9   \n",
      "59                                              Sjava          10   \n",
      "\n",
      "    daily_movement  weekly_movement country snapshot_date  popularity  \\\n",
      "50               3               10      ZA    2025-02-17          90   \n",
      "51               3                2      ZA    2025-02-17          58   \n",
      "52              -1               -2      ZA    2025-02-17          62   \n",
      "53              19               -2      ZA    2025-02-17          52   \n",
      "54              -4               -2      ZA    2025-02-17          59   \n",
      "55              -3                2      ZA    2025-02-17          54   \n",
      "56               1               43      ZA    2025-02-17          74   \n",
      "57              -2               -3      ZA    2025-02-17          60   \n",
      "58               1               17      ZA    2025-02-17          92   \n",
      "59               4               -1      ZA    2025-02-17          55   \n",
      "\n",
      "    is_explicit  ...  loudness mode speechiness  acousticness  \\\n",
      "50        False  ...    -7.546    1      0.1250        0.2510   \n",
      "51        False  ...    -9.515    1      0.0475        0.2410   \n",
      "52        False  ...   -10.965    0      0.0466        0.1750   \n",
      "53        False  ...    -5.893    1      0.0395        0.0597   \n",
      "54        False  ...    -8.950    1      0.0546        0.0126   \n",
      "55        False  ...    -7.403    1      0.0501        0.0878   \n",
      "56         True  ...    -5.530    1      0.0979        0.0643   \n",
      "57        False  ...    -7.837    0      0.0363        0.1240   \n",
      "58         True  ...    -7.001    1      0.0776        0.0107   \n",
      "59        False  ...    -5.591    1      0.1640        0.4760   \n",
      "\n",
      "    instrumentalness  liveness  valence    tempo  time_signature  full_country  \n",
      "50          0.000000    0.2480    0.576  138.008               4  South Africa  \n",
      "51          0.017900    0.0593    0.691  125.989               3  South Africa  \n",
      "52          0.198000    0.1050    0.524  118.006               4  South Africa  \n",
      "53          0.000450    0.3350    0.495   99.768               4  South Africa  \n",
      "54          0.000281    0.0609    0.746  112.012               4  South Africa  \n",
      "55          0.001040    0.0922    0.395  113.003               4  South Africa  \n",
      "56          0.000000    0.0772    0.245  142.950               4  South Africa  \n",
      "57          0.082400    0.0391    0.733  118.026               4  South Africa  \n",
      "58          0.000000    0.1410    0.214  101.061               4  South Africa  \n",
      "59          0.000000    0.3490    0.633  143.383               4  South Africa  \n",
      "\n",
      "[10 rows x 26 columns]\n",
      "artists\n",
      "Bad Bunny                                                      4\n",
      "Kendrick Lamar, SZA                                            2\n",
      "Billie Eilish                                                  2\n",
      "Teddy Swims                                                    2\n",
      "GIMS                                                           2\n",
      "Alex Warren                                                    2\n",
      "Oimara                                                         1\n",
      "ROSÉ, Bruno Mars                                               1\n",
      "Olly                                                           1\n",
      "Kendrick Lamar                                                 1\n",
      "Lola Young                                                     1\n",
      "Gracie Abrams                                                  1\n",
      "Lady Gaga, Bruno Mars                                          1\n",
      "Benson Boone                                                   1\n",
      "Kendrick Lamar, Lefty Gunplay                                  1\n",
      "LISA, Doja Cat, RAYE                                           1\n",
      "Fedez                                                          1\n",
      "Zartmann                                                       1\n",
      "The Weeknd, Playboi Carti                                      1\n",
      "Gigi Perez                                                     1\n",
      "Lucio Corsi                                                    1\n",
      "Giorgia                                                        1\n",
      "Lady Gaga                                                      1\n",
      "Achille Lauro                                                  1\n",
      "Macklemore, Ryan Lewis, Macklemore & Ryan Lewis, Ray Dalton    1\n",
      "Sabrina Carpenter                                              1\n",
      "HUGEL, Topic, Arash, Daecolm                                   1\n",
      "KAROL G                                                        1\n",
      "Mark Ambor                                                     1\n",
      "Tom Odell                                                      1\n",
      "Linkin Park                                                    1\n",
      "Wale, Sam Dew                                                  1\n",
      "Shaboozey                                                      1\n",
      "FloyyMenor, Cris Mj                                            1\n",
      "Coldplay                                                       1\n",
      "Tony Effe                                                      1\n",
      "reezy                                                          1\n",
      "Rose Villain                                                   1\n",
      "Adam Port, Stryv, Keinemusik, Orso, Malachiii                  1\n",
      "Lord Huron                                                     1\n",
      "The Weeknd, Anitta                                             1\n",
      "GIMS, DYSTINCT                                                 1\n",
      "Name: count, dtype: int64\n",
      "artists\n",
      "Bad Bunny    4\n",
      "Name: count, dtype: int64\n",
      "4\n",
      "name\n",
      "(nendest) narkootikumidest ei tea me (küll) midagi    39.0\n",
      "+57                                                   82.0\n",
      "100 roosi                                             35.0\n",
      "1000 Vėtrų                                            49.0\n",
      "1000 Ánh Mắt                                          61.0\n",
      "112                                                   55.0\n",
      "15 Minutes                                            73.0\n",
      "16-24                                                 63.0\n",
      "2025                                                  77.0\n",
      "24K Gold                                              47.0\n",
      "25                                                    70.0\n",
      "30 For 30 (with Kendrick Lamar)                       87.0\n",
      "300 BANIEK                                            60.0\n",
      "333                                                   55.0\n",
      "365 Dias (Vida Mansa)                                 77.0\n",
      "3D (feat. Jack Harlow)                                76.0\n",
      "3DABI                                                 60.0\n",
      "3oud Ned                                              51.0\n",
      "4 Kampé                                               75.0\n",
      "444                                                   75.0\n",
      "Name: popularity, dtype: float64\n",
      "name\n",
      "(nendest) narkootikumidest ei tea me (küll) midagi    39.0\n",
      "+57                                                   82.0\n",
      "100 roosi                                             35.0\n",
      "1000 Vėtrų                                            49.0\n",
      "1000 Ánh Mắt                                          61.0\n",
      "112                                                   55.0\n",
      "15 Minutes                                            73.0\n",
      "16-24                                                 63.0\n",
      "2025                                                  77.0\n",
      "24K Gold                                              47.0\n",
      "25                                                    70.0\n",
      "30 For 30 (with Kendrick Lamar)                       87.0\n",
      "300 BANIEK                                            60.0\n",
      "333                                                   55.0\n",
      "365 Dias (Vida Mansa)                                 77.0\n",
      "3D (feat. Jack Harlow)                                76.0\n",
      "3DABI                                                 60.0\n",
      "3oud Ned                                              51.0\n",
      "4 Kampé                                               75.0\n",
      "444                                                   75.0\n",
      "Name: popularity, dtype: float64\n",
      "average dancability of billies songs:\n",
      "0.6317974683544303\n"
     ]
    },
    {
     "name": "stderr",
     "output_type": "stream",
     "text": [
      "C:\\Users\\cedric\\AppData\\Local\\Temp\\ipykernel_14032\\4083855969.py:18: SettingWithCopyWarning: \n",
      "A value is trying to be set on a copy of a slice from a DataFrame.\n",
      "Try using .loc[row_indexer,col_indexer] = value instead\n",
      "\n",
      "See the caveats in the documentation: https://pandas.pydata.org/pandas-docs/stable/user_guide/indexing.html#returning-a-view-versus-a-copy\n",
      "  cleaned_spotify_df['full_country'] = cleaned_spotify_df['country'].map(country_dict)\n"
     ]
    },
    {
     "data": {
      "image/png": "[encoded data removed]",
      "text/plain": [
       "<Figure size 640x480 with 1 Axes>"
      ]
     },
     "metadata": {},
     "output_type": "display_data"
    }
   ],
   "source": [
    "###\n",
    "# YOUR CODE HERE\n",
    "###\n",
    "import matplotlib.pyplot as plt\n",
    "#find entries, where daily rank = 1 AND snap-shot-date = 02.17.2025\n",
    "high_in_feb = cleaned_spotify_df.loc[(cleaned_spotify_df['daily_rank'] == 1) & (cleaned_spotify_df['snapshot_date'] == \"2025-02-17\")]\n",
    "high_in_feb_prin = high_in_feb[['name', 'artists', 'country']]\n",
    "print(\"highest_score: \")\n",
    "print(high_in_feb_prin)\n",
    "\n",
    "in_feb = cleaned_spotify_df.loc[(cleaned_spotify_df['snapshot_date'] == \"2025-02-17\")]\n",
    "low_in_feb =[in_feb['daily_rank'].idxmax()]\n",
    "print(\"lowest Score:\")\n",
    "print(cleaned_spotify_df.iloc[low_in_feb])\n",
    "\n",
    "\n",
    "#map returns a series, so we need to assign it's output to a new collumn\n",
    "cleaned_spotify_df['full_country'] = cleaned_spotify_df['country'].map(country_dict)\n",
    "print(cleaned_spotify_df.head(10))\n",
    "\n",
    "#first find songs in switzerland, then count entries for artists, then find max\n",
    "spot_swiss = in_feb.loc[(in_feb['country'] == \"CH\")]\n",
    "artist_count = spot_swiss['artists'].value_counts()\n",
    "biggest_artist_count = artist_count.max()\n",
    "artists_values = artist_count[artist_count ==biggest_artist_count]\n",
    "print(artist_count)\n",
    "print(artists_values)\n",
    "print(biggest_artist_count)\n",
    "#Following plot shows all the artists in Switzerland with corresponding song-nmb\n",
    "plt.bar(x = artist_count.index, height = artist_count.values)\n",
    "#follogwing plot shows just highest count:\n",
    "plt.bar(x = artists_values.index, height = artists_values.values)\n",
    "plt.xticks(size = 8, rotation = 90) #make it a bit more readable, still not great tho\n",
    "\n",
    "#group by artists-names, then calculate mean/median\n",
    "average = in_feb.groupby(['name'])['popularity'].mean()\n",
    "print(average.head(20))\n",
    "med_ave = in_feb.groupby(['name'])['popularity'].median()\n",
    "print(med_ave.head(20))\n",
    "\n",
    "billy_songs = cleaned_spotify_df.loc[cleaned_spotify_df['artists'] == \"Billie Eilish\"]\n",
    "dance_score_ave = billy_songs['danceability'].mean()\n",
    "print(\"average dancability of billies songs:\")\n",
    "print(dance_score_ave)\n",
    "\n"
   ]
  },
  {
   "cell_type": "markdown",
   "metadata": {},
   "source": [
    "<h3 style=\"text-align:left;\">Exercise 3 - DataFrames Ufuncs<span style=\"float: right\">4 points</span></h3>"
   ]
  },
  {
   "cell_type": "markdown",
   "metadata": {},
   "source": [
    "Create the two dataframe *df1* and *df2* with the following code:"
   ]
  },
  {
   "cell_type": "code",
   "execution_count": 8,
   "metadata": {
    "ExecuteTime": {
     "end_time": "2025-03-12T10:13:17.813452Z",
     "start_time": "2025-03-12T10:13:17.808712Z"
    }
   },
   "outputs": [],
   "source": [
    "import numpy as np\n",
    "import pandas as pd\n",
    "\n",
    "df1 = pd.DataFrame(\n",
    "    np.arange(1, 10).reshape(3, 3),\n",
    "    columns=[\"a\", \"b\", \"c\"],\n",
    "    index=[\"1\", \"2\", \"3\"]\n",
    ")\n",
    "\n",
    "df2 = pd.DataFrame(\n",
    "    np.arange(1, 10).reshape(3, 3) / 2,\n",
    "    columns=[\"a\", \"b\", \"d\"],\n",
    "    index=[\"1\", \"2\", \"4\"]\n",
    ")"
   ]
  },
  {
   "cell_type": "markdown",
   "metadata": {},
   "source": [
    "1. Add the two dataframes together, with the appropriate pandas method, and print the result. (*0.5 points*)"
   ]
  },
  {
   "cell_type": "code",
   "execution_count": 9,
   "metadata": {},
   "outputs": [
    {
     "data": {
      "application/vnd.microsoft.datawrangler.viewer.v0+json": {
       "columns": [
        {
         "name": "index",
         "rawType": "object",
         "type": "string"
        },
        {
         "name": "a",
         "rawType": "float64",
         "type": "float"
        },
        {
         "name": "b",
         "rawType": "float64",
         "type": "float"
        },
        {
         "name": "c",
         "rawType": "float64",
         "type": "float"
        },
        {
         "name": "d",
         "rawType": "float64",
         "type": "float"
        }
       ],
       "conversionMethod": "pd.DataFrame",
       "ref": "5dd2828a-a017-4847-8bbd-804c208ae407",
       "rows": [
        [
         "1",
         "1.5",
         "3.0",
         null,
         null
        ],
        [
         "2",
         "6.0",
         "7.5",
         null,
         null
        ],
        [
         "3",
         null,
         null,
         null,
         null
        ],
        [
         "4",
         null,
         null,
         null,
         null
        ]
       ],
       "shape": {
        "columns": 4,
        "rows": 4
       }
      },
      "text/html": [
       "<div>\n",
       "<style scoped>\n",
       "    .dataframe tbody tr th:only-of-type {\n",
       "        vertical-align: middle;\n",
       "    }\n",
       "\n",
       "    .dataframe tbody tr th {\n",
       "        vertical-align: top;\n",
       "    }\n",
       "\n",
       "    .dataframe thead th {\n",
       "        text-align: right;\n",
       "    }\n",
       "</style>\n",
       "<table border=\"1\" class=\"dataframe\">\n",
       "  <thead>\n",
       "    <tr style=\"text-align: right;\">\n",
       "      <th></th>\n",
       "      <th>a</th>\n",
       "      <th>b</th>\n",
       "      <th>c</th>\n",
       "      <th>d</th>\n",
       "    </tr>\n",
       "  </thead>\n",
       "  <tbody>\n",
       "    <tr>\n",
       "      <th>1</th>\n",
       "      <td>1.5</td>\n",
       "      <td>3.0</td>\n",
       "      <td>NaN</td>\n",
       "      <td>NaN</td>\n",
       "    </tr>\n",
       "    <tr>\n",
       "      <th>2</th>\n",
       "      <td>6.0</td>\n",
       "      <td>7.5</td>\n",
       "      <td>NaN</td>\n",
       "      <td>NaN</td>\n",
       "    </tr>\n",
       "    <tr>\n",
       "      <th>3</th>\n",
       "      <td>NaN</td>\n",
       "      <td>NaN</td>\n",
       "      <td>NaN</td>\n",
       "      <td>NaN</td>\n",
       "    </tr>\n",
       "    <tr>\n",
       "      <th>4</th>\n",
       "      <td>NaN</td>\n",
       "      <td>NaN</td>\n",
       "      <td>NaN</td>\n",
       "      <td>NaN</td>\n",
       "    </tr>\n",
       "  </tbody>\n",
       "</table>\n",
       "</div>"
      ],
      "text/plain": [
       "     a    b   c   d\n",
       "1  1.5  3.0 NaN NaN\n",
       "2  6.0  7.5 NaN NaN\n",
       "3  NaN  NaN NaN NaN\n",
       "4  NaN  NaN NaN NaN"
      ]
     },
     "metadata": {},
     "output_type": "display_data"
    }
   ],
   "source": [
    "###\n",
    "# YOUR CODE HERE\n",
    "###\n",
    "\n",
    "pandas_sum = df1 + df2\n",
    "\n",
    "display(pandas_sum)"
   ]
  },
  {
   "cell_type": "markdown",
   "metadata": {},
   "source": [
    "2. Add the underlying numpy objects of the two dataframes, and print the result. (*0.5 points*)"
   ]
  },
  {
   "cell_type": "code",
   "execution_count": 10,
   "metadata": {},
   "outputs": [
    {
     "data": {
      "text/plain": [
       "array([[ 1.5,  3. ,  4.5],\n",
       "       [ 6. ,  7.5,  9. ],\n",
       "       [10.5, 12. , 13.5]])"
      ]
     },
     "metadata": {},
     "output_type": "display_data"
    }
   ],
   "source": [
    "###\n",
    "# YOUR CODE HERE\n",
    "###\n",
    "\n",
    "numpy_sum = df1.to_numpy() + df2.to_numpy()\n",
    "\n",
    "display(numpy_sum)"
   ]
  },
  {
   "cell_type": "markdown",
   "metadata": {},
   "source": [
    "3. Compare the two results that you obtained and comment if and **why** they are different. (*3 points*)"
   ]
  },
  {
   "cell_type": "code",
   "execution_count": 11,
   "metadata": {},
   "outputs": [
    {
     "data": {
      "application/vnd.microsoft.datawrangler.viewer.v0+json": {
       "columns": [
        {
         "name": "index",
         "rawType": "object",
         "type": "string"
        },
        {
         "name": "a",
         "rawType": "float64",
         "type": "float"
        },
        {
         "name": "b",
         "rawType": "float64",
         "type": "float"
        },
        {
         "name": "c",
         "rawType": "float64",
         "type": "float"
        },
        {
         "name": "d",
         "rawType": "float64",
         "type": "float"
        }
       ],
       "conversionMethod": "pd.DataFrame",
       "ref": "11205885-288b-4c0d-9800-b56edc14c23b",
       "rows": [
        [
         "1",
         "1.5",
         "3.0",
         null,
         null
        ],
        [
         "2",
         "6.0",
         "7.5",
         null,
         null
        ],
        [
         "3",
         null,
         null,
         null,
         null
        ],
        [
         "4",
         null,
         null,
         null,
         null
        ]
       ],
       "shape": {
        "columns": 4,
        "rows": 4
       }
      },
      "text/html": [
       "<div>\n",
       "<style scoped>\n",
       "    .dataframe tbody tr th:only-of-type {\n",
       "        vertical-align: middle;\n",
       "    }\n",
       "\n",
       "    .dataframe tbody tr th {\n",
       "        vertical-align: top;\n",
       "    }\n",
       "\n",
       "    .dataframe thead th {\n",
       "        text-align: right;\n",
       "    }\n",
       "</style>\n",
       "<table border=\"1\" class=\"dataframe\">\n",
       "  <thead>\n",
       "    <tr style=\"text-align: right;\">\n",
       "      <th></th>\n",
       "      <th>a</th>\n",
       "      <th>b</th>\n",
       "      <th>c</th>\n",
       "      <th>d</th>\n",
       "    </tr>\n",
       "  </thead>\n",
       "  <tbody>\n",
       "    <tr>\n",
       "      <th>1</th>\n",
       "      <td>1.5</td>\n",
       "      <td>3.0</td>\n",
       "      <td>NaN</td>\n",
       "      <td>NaN</td>\n",
       "    </tr>\n",
       "    <tr>\n",
       "      <th>2</th>\n",
       "      <td>6.0</td>\n",
       "      <td>7.5</td>\n",
       "      <td>NaN</td>\n",
       "      <td>NaN</td>\n",
       "    </tr>\n",
       "    <tr>\n",
       "      <th>3</th>\n",
       "      <td>NaN</td>\n",
       "      <td>NaN</td>\n",
       "      <td>NaN</td>\n",
       "      <td>NaN</td>\n",
       "    </tr>\n",
       "    <tr>\n",
       "      <th>4</th>\n",
       "      <td>NaN</td>\n",
       "      <td>NaN</td>\n",
       "      <td>NaN</td>\n",
       "      <td>NaN</td>\n",
       "    </tr>\n",
       "  </tbody>\n",
       "</table>\n",
       "</div>"
      ],
      "text/plain": [
       "     a    b   c   d\n",
       "1  1.5  3.0 NaN NaN\n",
       "2  6.0  7.5 NaN NaN\n",
       "3  NaN  NaN NaN NaN\n",
       "4  NaN  NaN NaN NaN"
      ]
     },
     "metadata": {},
     "output_type": "display_data"
    },
    {
     "data": {
      "text/plain": [
       "array([[ 1.5,  3. ,  4.5],\n",
       "       [ 6. ,  7.5,  9. ],\n",
       "       [10.5, 12. , 13.5]])"
      ]
     },
     "metadata": {},
     "output_type": "display_data"
    }
   ],
   "source": [
    "###\n",
    "# YOUR COMMENT HERE\n",
    "###\n",
    "\n",
    "display(pandas_sum)\n",
    "display(numpy_sum)\n"
   ]
  },
  {
   "cell_type": "markdown",
   "metadata": {},
   "source": [
    "The main diffrence between `df1.to_numpy() + df2.to_numpy()` and `df1 + df2` is:\n",
    " - numpy infers which rows and columns to add form the shape of the objects\n",
    " - pandas adds elements together which are in the same row and in the same column\n",
    "The addition of the dataframes will always work even if the shapes do not match, this is not the case with numpy:\n",
    "since df1 and df2 have the same shape, the numpy arrays will also have the same shape and it will be possible to add them together\n",
    "this numpy addition does **not** hovever correspond to adding the dataframes which will differentiate between rows and collumns with diffrent names"
   ]
  }
 ],
 "metadata": {
  "kernelspec": {
   "display_name": ".venv (3.11.5)",
   "language": "python",
   "name": "python3"
  },
  "language_info": {
   "codemirror_mode": {
    "name": "ipython",
    "version": 3
   },
   "file_extension": ".py",
   "mimetype": "text/x-python",
   "name": "python",
   "nbconvert_exporter": "python",
   "pygments_lexer": "ipython3",
   "version": "3.11.5"
  }
 },
 "nbformat": 4,
 "nbformat_minor": 2
}
