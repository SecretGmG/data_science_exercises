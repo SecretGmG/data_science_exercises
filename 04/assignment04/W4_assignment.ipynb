{
 "cells": [
  {
   "cell_type": "markdown",
   "metadata": {},
   "source": [
    "<h2><center>Week 4 - Assignment</center></h2>\n",
    "<h3><center>Programming for Data Science 2025</center></h3>"
   ]
  },
  {
   "cell_type": "markdown",
   "metadata": {},
   "source": [
    "Exercises for the topics covered in the fourth lecture.\n",
    "\n",
    "The exercise will be marked as passed if you get **at least 10/15** points.\n",
    "\n",
    "Exercises must be handed in via **ILIAS** (Homework assignments). Deliver your submission as a compressed file (zip) containing one .py or .ipynb file with all exercises. The name of both the .zip and the .py/.ipynb file must be *SurnameName* of the two members of the group. Example: Annina Helmy + Markus Anwander = *HelmyAnnina_AnwanderMarkus.zip* .\n",
    "\n",
    "It's important to use comments to explain your code and show that you're able to take ownership of the exercises and discuss them.\n",
    "\n",
    "You are not expected to collaborate outside of the group on exercises and submitting other groups’ code as your own will result in 0 points.\n",
    "\n",
    "For question about the lecture content or exam, contact: *annina.helmy@students.unibe.ch* with the subject: *Programming for Data Science 2025 - Lecture XY*.\n",
    "For questions about the excercise/grading of excercises, contact: *thea.waldleben@students.unibe.ch* or *patricia.gribi@students.unibe.ch* with the subject: *Programming for Data Science 2025 - Excercise XY*.\n",
    "**Deadline: 14:00, March 20, 2025.**"
   ]
  },
  {
   "cell_type": "markdown",
   "metadata": {},
   "source": [
    "<h3 style=\"text-align:left;\">Exercise 1 - Create Dataframes<span style=\"float: right\">5 points</span></h3>"
   ]
  },
  {
   "cell_type": "markdown",
   "metadata": {},
   "source": [
    "Create a DataFrame *episodes_df* with the columns **ses**, **ep**, and **title**, as below:\n",
    "\n",
    "|**ses**|**ep**|**title**|\n",
    "|:---|:---|:---|\n",
    "|1|1|One|\n",
    "|1|2|Two|\n",
    "|2|1|Three|\n",
    "|2|2|Four|\n",
    "\n",
    "Create a DataFrame *imdb_df* with the columns **ses**, **ep**, and **score**, as below:\n",
    "\n",
    "|**ses**|**ep**|**score**|\n",
    "|:---|:---|:---|\n",
    "|1|1|8.4|\n",
    "|1|2|8.1|\n",
    "|2|1|7.9|\n",
    "|2|2|7.7|\n",
    "\n",
    "Merge the two DataFrames. Then, find and print the title of the episode with the higest score.\n",
    "\n",
    "💡**Hint**: To merge the two dataframes you have to use the *merge* method:\n",
    "```python\n",
    "merged_df = episodes_df.merge(imdb_df, on=['ses', 'ep'])\n",
    "```\n",
    "\n",
    "\n",
    "1. By manipulating the dataframes, find and print the title of the episode with the higest score. (*3 points*)"
   ]
  },
  {
   "cell_type": "code",
   "execution_count": 13,
   "metadata": {},
   "outputs": [],
   "source": [
    "import pandas as pd"
   ]
  },
  {
   "cell_type": "code",
   "execution_count": 14,
   "metadata": {},
   "outputs": [],
   "source": [
    "###\n",
    "# YOUR CODE HERE\n",
    "###"
   ]
  },
  {
   "cell_type": "markdown",
   "metadata": {},
   "source": [
    "2. Change the **score** of the entry with the title \"Three\" in the DataFrame you created in Task 1 and print the result. The new score should be 6. (*2 points*)"
   ]
  },
  {
   "cell_type": "code",
   "execution_count": 15,
   "metadata": {},
   "outputs": [],
   "source": [
    "###\n",
    "# YOUR CODE HERE\n",
    "###"
   ]
  },
  {
   "cell_type": "markdown",
   "metadata": {},
   "source": [
    "<h3 style=\"text-align:left;\">Exercise 2 - Load DataFrames<span style=\"float: right\">6 points</span></h3>"
   ]
  },
  {
   "cell_type": "markdown",
   "metadata": {},
   "source": [
    "1. Load the dataset `spotify_songs.csv` in the data folder. **(2 points)**\n",
    "- Display the first five rows of the dataset. *(0.5 points)*\n",
    "- Check the number of rows and columns *(0.5 points)*\n",
    "- Display the column names of the dataset. *(0.5 points)*\n",
    "- Count the number of missing values in each column and drop the rows with the missing values. *(0.5 points)*\n",
    "\n",
    "```python\n",
    "spotify_df = pd.read_csv('./data/spotify_songs.csv')\n",
    "```\n",
    "```"
   ]
  },
  {
   "cell_type": "code",
   "execution_count": 16,
   "metadata": {},
   "outputs": [
    {
     "data": {
      "application/vnd.microsoft.datawrangler.viewer.v0+json": {
       "columns": [
        {
         "name": "index",
         "rawType": "int64",
         "type": "integer"
        },
        {
         "name": "spotify_id",
         "rawType": "object",
         "type": "string"
        },
        {
         "name": "name",
         "rawType": "object",
         "type": "string"
        },
        {
         "name": "artists",
         "rawType": "object",
         "type": "string"
        },
        {
         "name": "daily_rank",
         "rawType": "int64",
         "type": "integer"
        },
        {
         "name": "daily_movement",
         "rawType": "int64",
         "type": "integer"
        },
        {
         "name": "weekly_movement",
         "rawType": "int64",
         "type": "integer"
        },
        {
         "name": "country",
         "rawType": "object",
         "type": "unknown"
        },
        {
         "name": "snapshot_date",
         "rawType": "object",
         "type": "string"
        },
        {
         "name": "popularity",
         "rawType": "int64",
         "type": "integer"
        },
        {
         "name": "is_explicit",
         "rawType": "bool",
         "type": "boolean"
        },
        {
         "name": "duration_ms",
         "rawType": "int64",
         "type": "integer"
        },
        {
         "name": "album_name",
         "rawType": "object",
         "type": "string"
        },
        {
         "name": "album_release_date",
         "rawType": "object",
         "type": "string"
        },
        {
         "name": "danceability",
         "rawType": "float64",
         "type": "float"
        },
        {
         "name": "energy",
         "rawType": "float64",
         "type": "float"
        },
        {
         "name": "key",
         "rawType": "int64",
         "type": "integer"
        },
        {
         "name": "loudness",
         "rawType": "float64",
         "type": "float"
        },
        {
         "name": "mode",
         "rawType": "int64",
         "type": "integer"
        },
        {
         "name": "speechiness",
         "rawType": "float64",
         "type": "float"
        },
        {
         "name": "acousticness",
         "rawType": "float64",
         "type": "float"
        },
        {
         "name": "instrumentalness",
         "rawType": "float64",
         "type": "float"
        },
        {
         "name": "liveness",
         "rawType": "float64",
         "type": "float"
        },
        {
         "name": "valence",
         "rawType": "float64",
         "type": "float"
        },
        {
         "name": "tempo",
         "rawType": "float64",
         "type": "float"
        },
        {
         "name": "time_signature",
         "rawType": "int64",
         "type": "integer"
        }
       ],
       "conversionMethod": "pd.DataFrame",
       "ref": "9bf5d891-9060-4d45-b36c-4cf2eb1a4687",
       "rows": [
        [
         "0",
         "2plbrEY59IikOBgBGLjaoe",
         "Die With A Smile",
         "Lady Gaga, Bruno Mars",
         "1",
         "1",
         "0",
         null,
         "2025-02-17",
         "98",
         "False",
         "251667",
         "Die With A Smile",
         "2024-08-16",
         "0.521",
         "0.592",
         "6",
         "-7.777",
         "0",
         "0.0304",
         "0.308",
         "0.0",
         "0.122",
         "0.535",
         "157.969",
         "3"
        ],
        [
         "1",
         "2CGNAOSuO1MEFCbBRgUzjd",
         "luther (with sza)",
         "Kendrick Lamar, SZA",
         "2",
         "1",
         "4",
         null,
         "2025-02-17",
         "90",
         "False",
         "177598",
         "GNX",
         "2024-11-21",
         "0.707",
         "0.575",
         "2",
         "-7.546",
         "1",
         "0.125",
         "0.251",
         "0.0",
         "0.248",
         "0.576",
         "138.008",
         "4"
        ],
        [
         "2",
         "6AI3ezQ4o3HUoP6Dhudph3",
         "Not Like Us",
         "Kendrick Lamar",
         "3",
         "-2",
         "8",
         null,
         "2025-02-17",
         "92",
         "True",
         "274192",
         "Not Like Us",
         "2024-05-04",
         "0.898",
         "0.472",
         "1",
         "-7.001",
         "1",
         "0.0776",
         "0.0107",
         "0.0",
         "0.141",
         "0.214",
         "101.061",
         "4"
        ],
        [
         "3",
         "4wJ5Qq0jBN4ajy7ouZIV1c",
         "APT.",
         "ROSÉ, Bruno Mars",
         "4",
         "0",
         "-2",
         null,
         "2025-02-17",
         "89",
         "False",
         "169917",
         "rosie",
         "2024-12-06",
         "0.777",
         "0.783",
         "0",
         "-4.477",
         "0",
         "0.26",
         "0.0283",
         "0.0",
         "0.355",
         "0.939",
         "149.027",
         "4"
        ],
        [
         "4",
         "6dOtVTDdiauQNBQEDOtlAB",
         "BIRDS OF A FEATHER",
         "Billie Eilish",
         "5",
         "1",
         "-2",
         null,
         "2025-02-17",
         "96",
         "False",
         "210373",
         "HIT ME HARD AND SOFT",
         "2024-05-17",
         "0.747",
         "0.507",
         "2",
         "-10.171",
         "1",
         "0.0358",
         "0.2",
         "0.0608",
         "0.117",
         "0.438",
         "104.978",
         "4"
        ]
       ],
       "shape": {
        "columns": 25,
        "rows": 5
       }
      },
      "text/html": [
       "<div>\n",
       "<style scoped>\n",
       "    .dataframe tbody tr th:only-of-type {\n",
       "        vertical-align: middle;\n",
       "    }\n",
       "\n",
       "    .dataframe tbody tr th {\n",
       "        vertical-align: top;\n",
       "    }\n",
       "\n",
       "    .dataframe thead th {\n",
       "        text-align: right;\n",
       "    }\n",
       "</style>\n",
       "<table border=\"1\" class=\"dataframe\">\n",
       "  <thead>\n",
       "    <tr style=\"text-align: right;\">\n",
       "      <th></th>\n",
       "      <th>spotify_id</th>\n",
       "      <th>name</th>\n",
       "      <th>artists</th>\n",
       "      <th>daily_rank</th>\n",
       "      <th>daily_movement</th>\n",
       "      <th>weekly_movement</th>\n",
       "      <th>country</th>\n",
       "      <th>snapshot_date</th>\n",
       "      <th>popularity</th>\n",
       "      <th>is_explicit</th>\n",
       "      <th>...</th>\n",
       "      <th>key</th>\n",
       "      <th>loudness</th>\n",
       "      <th>mode</th>\n",
       "      <th>speechiness</th>\n",
       "      <th>acousticness</th>\n",
       "      <th>instrumentalness</th>\n",
       "      <th>liveness</th>\n",
       "      <th>valence</th>\n",
       "      <th>tempo</th>\n",
       "      <th>time_signature</th>\n",
       "    </tr>\n",
       "  </thead>\n",
       "  <tbody>\n",
       "    <tr>\n",
       "      <th>0</th>\n",
       "      <td>2plbrEY59IikOBgBGLjaoe</td>\n",
       "      <td>Die With A Smile</td>\n",
       "      <td>Lady Gaga, Bruno Mars</td>\n",
       "      <td>1</td>\n",
       "      <td>1</td>\n",
       "      <td>0</td>\n",
       "      <td>NaN</td>\n",
       "      <td>2025-02-17</td>\n",
       "      <td>98</td>\n",
       "      <td>False</td>\n",
       "      <td>...</td>\n",
       "      <td>6</td>\n",
       "      <td>-7.777</td>\n",
       "      <td>0</td>\n",
       "      <td>0.0304</td>\n",
       "      <td>0.3080</td>\n",
       "      <td>0.0000</td>\n",
       "      <td>0.122</td>\n",
       "      <td>0.535</td>\n",
       "      <td>157.969</td>\n",
       "      <td>3</td>\n",
       "    </tr>\n",
       "    <tr>\n",
       "      <th>1</th>\n",
       "      <td>2CGNAOSuO1MEFCbBRgUzjd</td>\n",
       "      <td>luther (with sza)</td>\n",
       "      <td>Kendrick Lamar, SZA</td>\n",
       "      <td>2</td>\n",
       "      <td>1</td>\n",
       "      <td>4</td>\n",
       "      <td>NaN</td>\n",
       "      <td>2025-02-17</td>\n",
       "      <td>90</td>\n",
       "      <td>False</td>\n",
       "      <td>...</td>\n",
       "      <td>2</td>\n",
       "      <td>-7.546</td>\n",
       "      <td>1</td>\n",
       "      <td>0.1250</td>\n",
       "      <td>0.2510</td>\n",
       "      <td>0.0000</td>\n",
       "      <td>0.248</td>\n",
       "      <td>0.576</td>\n",
       "      <td>138.008</td>\n",
       "      <td>4</td>\n",
       "    </tr>\n",
       "    <tr>\n",
       "      <th>2</th>\n",
       "      <td>6AI3ezQ4o3HUoP6Dhudph3</td>\n",
       "      <td>Not Like Us</td>\n",
       "      <td>Kendrick Lamar</td>\n",
       "      <td>3</td>\n",
       "      <td>-2</td>\n",
       "      <td>8</td>\n",
       "      <td>NaN</td>\n",
       "      <td>2025-02-17</td>\n",
       "      <td>92</td>\n",
       "      <td>True</td>\n",
       "      <td>...</td>\n",
       "      <td>1</td>\n",
       "      <td>-7.001</td>\n",
       "      <td>1</td>\n",
       "      <td>0.0776</td>\n",
       "      <td>0.0107</td>\n",
       "      <td>0.0000</td>\n",
       "      <td>0.141</td>\n",
       "      <td>0.214</td>\n",
       "      <td>101.061</td>\n",
       "      <td>4</td>\n",
       "    </tr>\n",
       "    <tr>\n",
       "      <th>3</th>\n",
       "      <td>4wJ5Qq0jBN4ajy7ouZIV1c</td>\n",
       "      <td>APT.</td>\n",
       "      <td>ROSÉ, Bruno Mars</td>\n",
       "      <td>4</td>\n",
       "      <td>0</td>\n",
       "      <td>-2</td>\n",
       "      <td>NaN</td>\n",
       "      <td>2025-02-17</td>\n",
       "      <td>89</td>\n",
       "      <td>False</td>\n",
       "      <td>...</td>\n",
       "      <td>0</td>\n",
       "      <td>-4.477</td>\n",
       "      <td>0</td>\n",
       "      <td>0.2600</td>\n",
       "      <td>0.0283</td>\n",
       "      <td>0.0000</td>\n",
       "      <td>0.355</td>\n",
       "      <td>0.939</td>\n",
       "      <td>149.027</td>\n",
       "      <td>4</td>\n",
       "    </tr>\n",
       "    <tr>\n",
       "      <th>4</th>\n",
       "      <td>6dOtVTDdiauQNBQEDOtlAB</td>\n",
       "      <td>BIRDS OF A FEATHER</td>\n",
       "      <td>Billie Eilish</td>\n",
       "      <td>5</td>\n",
       "      <td>1</td>\n",
       "      <td>-2</td>\n",
       "      <td>NaN</td>\n",
       "      <td>2025-02-17</td>\n",
       "      <td>96</td>\n",
       "      <td>False</td>\n",
       "      <td>...</td>\n",
       "      <td>2</td>\n",
       "      <td>-10.171</td>\n",
       "      <td>1</td>\n",
       "      <td>0.0358</td>\n",
       "      <td>0.2000</td>\n",
       "      <td>0.0608</td>\n",
       "      <td>0.117</td>\n",
       "      <td>0.438</td>\n",
       "      <td>104.978</td>\n",
       "      <td>4</td>\n",
       "    </tr>\n",
       "  </tbody>\n",
       "</table>\n",
       "<p>5 rows × 25 columns</p>\n",
       "</div>"
      ],
      "text/plain": [
       "               spotify_id                name                artists  \\\n",
       "0  2plbrEY59IikOBgBGLjaoe    Die With A Smile  Lady Gaga, Bruno Mars   \n",
       "1  2CGNAOSuO1MEFCbBRgUzjd   luther (with sza)    Kendrick Lamar, SZA   \n",
       "2  6AI3ezQ4o3HUoP6Dhudph3         Not Like Us         Kendrick Lamar   \n",
       "3  4wJ5Qq0jBN4ajy7ouZIV1c                APT.       ROSÉ, Bruno Mars   \n",
       "4  6dOtVTDdiauQNBQEDOtlAB  BIRDS OF A FEATHER          Billie Eilish   \n",
       "\n",
       "   daily_rank  daily_movement  weekly_movement country snapshot_date  \\\n",
       "0           1               1                0     NaN    2025-02-17   \n",
       "1           2               1                4     NaN    2025-02-17   \n",
       "2           3              -2                8     NaN    2025-02-17   \n",
       "3           4               0               -2     NaN    2025-02-17   \n",
       "4           5               1               -2     NaN    2025-02-17   \n",
       "\n",
       "   popularity  is_explicit  ...  key loudness mode  speechiness  acousticness  \\\n",
       "0          98        False  ...    6   -7.777    0       0.0304        0.3080   \n",
       "1          90        False  ...    2   -7.546    1       0.1250        0.2510   \n",
       "2          92         True  ...    1   -7.001    1       0.0776        0.0107   \n",
       "3          89        False  ...    0   -4.477    0       0.2600        0.0283   \n",
       "4          96        False  ...    2  -10.171    1       0.0358        0.2000   \n",
       "\n",
       "   instrumentalness  liveness  valence    tempo  time_signature  \n",
       "0            0.0000     0.122    0.535  157.969               3  \n",
       "1            0.0000     0.248    0.576  138.008               4  \n",
       "2            0.0000     0.141    0.214  101.061               4  \n",
       "3            0.0000     0.355    0.939  149.027               4  \n",
       "4            0.0608     0.117    0.438  104.978               4  \n",
       "\n",
       "[5 rows x 25 columns]"
      ]
     },
     "metadata": {},
     "output_type": "display_data"
    },
    {
     "name": "stdout",
     "output_type": "stream",
     "text": [
      "Number of rows and collumns: (10000, 25)\n"
     ]
    },
    {
     "data": {
      "text/plain": [
       "spotify_id              0\n",
       "name                    0\n",
       "artists                 0\n",
       "daily_rank              0\n",
       "daily_movement          0\n",
       "weekly_movement         0\n",
       "country               150\n",
       "snapshot_date           0\n",
       "popularity              0\n",
       "is_explicit             0\n",
       "duration_ms             0\n",
       "album_name              0\n",
       "album_release_date      0\n",
       "danceability            0\n",
       "energy                  0\n",
       "key                     0\n",
       "loudness                0\n",
       "mode                    0\n",
       "speechiness             0\n",
       "acousticness            0\n",
       "instrumentalness        0\n",
       "liveness                0\n",
       "valence                 0\n",
       "tempo                   0\n",
       "time_signature          0\n",
       "dtype: int64"
      ]
     },
     "metadata": {},
     "output_type": "display_data"
    }
   ],
   "source": [
    "###\n",
    "# YOUR CODE HERE\n",
    "###\n",
    "\n",
    "spotify_df = pd.read_csv('./data/spotify_songs.csv')\n",
    "\n",
    "display(spotify_df.head(5))\n",
    "\n",
    "# get shape of df\n",
    "print(f'Number of rows and collumns: {spotify_df.shape}')\n",
    "\n",
    "# get missing values per collumn\n",
    "missing_per_collumn = spotify_df.isna().sum()\n",
    "display(missing_per_collumn)\n",
    "\n",
    "# drop the rows with missing values\n",
    "cleaned_spotify_df = spotify_df.dropna()"
   ]
  },
  {
   "cell_type": "markdown",
   "metadata": {},
   "source": [
    "2. Analyzing Dataset **(4 points)**\n",
    "\n",
    "**Work with the cleaned dataset**.\n",
    "\n",
    "- Find the songs with the highest rank (`daily_rank`) on the 17.02.2025 (`snapshot_date`). Print the song name and the artist and the country in which the song had highest rank. *(0.5 points)*\n",
    "- Find the song with the lowest daily rank on the 17.02.2025. Print the song name and the artist and the country in which the song had highest rank. *(0.5 points)*\n",
    "- Map the country abbreviations to the full country names. (e.g. ZA -> South Africa) (on the whole cleaned spotify dataset). Meaning you should create a new column where we have the full country name written. *(0.5 points)*\n",
    "- Plot the artists who had the most songs in this spotify list in Switzerland on the 17.02.2025. Use a bar plot (e.g. x-axis: artist name, y-axis: number of songs).\n",
    "    - Python: `plt.bar(x = artists_values.index, height = artists_values.values)`. *(1 point)*\n",
    "- Calculate the mean and median popularity per song on the 17.02.2025 (across the cleaned dataset). Print the results. (Hint: https://pandas.pydata.org/docs/reference/api/pandas.DataFrame.groupby.html; group by the song name). *(1 point)*\n",
    "- Determine the average danceability score of songs by Billie Eilish. *(0.5 points)*"
   ]
  },
  {
   "cell_type": "code",
   "execution_count": 17,
   "metadata": {},
   "outputs": [],
   "source": [
    "country_dict = {\n",
    "    'ZA': 'South Africa',\n",
    "    'VN': 'Vietnam',\n",
    "    'VE': 'Venezuela',\n",
    "    'UY': 'Uruguay',\n",
    "    'US': 'United States',\n",
    "    'UA': 'Ukraine',\n",
    "    'TW': 'Taiwan',\n",
    "    'TR': 'Turkey',\n",
    "    'TH': 'Thailand',\n",
    "    'SV': 'El Salvador',\n",
    "    'SK': 'Slovakia',\n",
    "    'SG': 'Singapore',\n",
    "    'SE': 'Sweden',\n",
    "    'SA': 'Saudi Arabia',\n",
    "    'RO': 'Romania',\n",
    "    'PY': 'Paraguay',\n",
    "    'PT': 'Portugal',\n",
    "    'PL': 'Poland',\n",
    "    'PK': 'Pakistan',\n",
    "    'PH': 'Philippines',\n",
    "    'PE': 'Peru',\n",
    "    'PA': 'Panama',\n",
    "    'NZ': 'New Zealand',\n",
    "    'NO': 'Norway',\n",
    "    'NL': 'Netherlands',\n",
    "    'NI': 'Nicaragua',\n",
    "    'NG': 'Nigeria',\n",
    "    'MY': 'Malaysia',\n",
    "    'MX': 'Mexico',\n",
    "    'MA': 'Morocco',\n",
    "    'LV': 'Latvia',\n",
    "    'LU': 'Luxembourg',\n",
    "    'LT': 'Lithuania',\n",
    "    'KZ': 'Kazakhstan',\n",
    "    'KR': 'South Korea',\n",
    "    'JP': 'Japan',\n",
    "    'IT': 'Italy',\n",
    "    'IS': 'Iceland',\n",
    "    'IN': 'India',\n",
    "    'IL': 'Israel',\n",
    "    'IE': 'Ireland',\n",
    "    'ID': 'Indonesia',\n",
    "    'HU': 'Hungary',\n",
    "    'HN': 'Honduras',\n",
    "    'HK': 'Hong Kong',\n",
    "    'GT': 'Guatemala',\n",
    "    'GR': 'Greece',\n",
    "    'FR': 'France',\n",
    "    'FI': 'Finland',\n",
    "    'ES': 'Spain',\n",
    "    'EG': 'Egypt',\n",
    "    'EE': 'Estonia',\n",
    "    'EC': 'Ecuador',\n",
    "    'DO': 'Dominican Republic',\n",
    "    'DK': 'Denmark',\n",
    "    'DE': 'Germany',\n",
    "    'CZ': 'Czech Republic',\n",
    "    'CR': 'Costa Rica',\n",
    "    'CO': 'Colombia',\n",
    "    'CL': 'Chile',\n",
    "    'CH': 'Switzerland',\n",
    "    'CA': 'Canada',\n",
    "    'BY': 'Belarus',\n",
    "    'BR': 'Brazil',\n",
    "    'BO': 'Bolivia',\n",
    "    'BG': 'Bulgaria',\n",
    "    'BE': 'Belgium',\n",
    "    'AU': 'Australia',\n",
    "    'AT': 'Austria',\n",
    "    'AR': 'Argentina',\n",
    "    'AE': 'United Arab Emirates',\n",
    "    'GB': 'United Kingdom'\n",
    "}"
   ]
  },
  {
   "cell_type": "code",
   "execution_count": 18,
   "metadata": {},
   "outputs": [],
   "source": [
    "###\n",
    "# YOUR CODE HERE\n",
    "###"
   ]
  },
  {
   "cell_type": "markdown",
   "metadata": {},
   "source": [
    "<h3 style=\"text-align:left;\">Exercise 3 - DataFrames Ufuncs<span style=\"float: right\">4 points</span></h3>"
   ]
  },
  {
   "cell_type": "markdown",
   "metadata": {},
   "source": [
    "Create the two dataframe *df1* and *df2* with the following code:"
   ]
  },
  {
   "cell_type": "code",
   "execution_count": 19,
   "metadata": {
    "ExecuteTime": {
     "end_time": "2025-03-12T10:13:17.813452Z",
     "start_time": "2025-03-12T10:13:17.808712Z"
    }
   },
   "outputs": [],
   "source": [
    "import numpy as np\n",
    "import pandas as pd\n",
    "\n",
    "df1 = pd.DataFrame(\n",
    "    np.arange(1, 10).reshape(3, 3),\n",
    "    columns=[\"a\", \"b\", \"c\"],\n",
    "    index=[\"1\", \"2\", \"3\"]\n",
    ")\n",
    "\n",
    "df2 = pd.DataFrame(\n",
    "    np.arange(1, 10).reshape(3, 3) / 2,\n",
    "    columns=[\"a\", \"b\", \"d\"],\n",
    "    index=[\"1\", \"2\", \"4\"]\n",
    ")"
   ]
  },
  {
   "cell_type": "markdown",
   "metadata": {},
   "source": [
    "1. Add the two dataframes together, with the appropriate pandas method, and print the result. (*0.5 points*)"
   ]
  },
  {
   "cell_type": "code",
   "execution_count": 23,
   "metadata": {},
   "outputs": [
    {
     "data": {
      "application/vnd.microsoft.datawrangler.viewer.v0+json": {
       "columns": [
        {
         "name": "index",
         "rawType": "object",
         "type": "string"
        },
        {
         "name": "a",
         "rawType": "float64",
         "type": "float"
        },
        {
         "name": "b",
         "rawType": "float64",
         "type": "float"
        },
        {
         "name": "c",
         "rawType": "float64",
         "type": "float"
        },
        {
         "name": "d",
         "rawType": "float64",
         "type": "float"
        }
       ],
       "conversionMethod": "pd.DataFrame",
       "ref": "32348259-a7cc-4078-bd07-0c90dabbad55",
       "rows": [
        [
         "1",
         "1.5",
         "3.0",
         null,
         null
        ],
        [
         "2",
         "6.0",
         "7.5",
         null,
         null
        ],
        [
         "3",
         null,
         null,
         null,
         null
        ],
        [
         "4",
         null,
         null,
         null,
         null
        ]
       ],
       "shape": {
        "columns": 4,
        "rows": 4
       }
      },
      "text/html": [
       "<div>\n",
       "<style scoped>\n",
       "    .dataframe tbody tr th:only-of-type {\n",
       "        vertical-align: middle;\n",
       "    }\n",
       "\n",
       "    .dataframe tbody tr th {\n",
       "        vertical-align: top;\n",
       "    }\n",
       "\n",
       "    .dataframe thead th {\n",
       "        text-align: right;\n",
       "    }\n",
       "</style>\n",
       "<table border=\"1\" class=\"dataframe\">\n",
       "  <thead>\n",
       "    <tr style=\"text-align: right;\">\n",
       "      <th></th>\n",
       "      <th>a</th>\n",
       "      <th>b</th>\n",
       "      <th>c</th>\n",
       "      <th>d</th>\n",
       "    </tr>\n",
       "  </thead>\n",
       "  <tbody>\n",
       "    <tr>\n",
       "      <th>1</th>\n",
       "      <td>1.5</td>\n",
       "      <td>3.0</td>\n",
       "      <td>NaN</td>\n",
       "      <td>NaN</td>\n",
       "    </tr>\n",
       "    <tr>\n",
       "      <th>2</th>\n",
       "      <td>6.0</td>\n",
       "      <td>7.5</td>\n",
       "      <td>NaN</td>\n",
       "      <td>NaN</td>\n",
       "    </tr>\n",
       "    <tr>\n",
       "      <th>3</th>\n",
       "      <td>NaN</td>\n",
       "      <td>NaN</td>\n",
       "      <td>NaN</td>\n",
       "      <td>NaN</td>\n",
       "    </tr>\n",
       "    <tr>\n",
       "      <th>4</th>\n",
       "      <td>NaN</td>\n",
       "      <td>NaN</td>\n",
       "      <td>NaN</td>\n",
       "      <td>NaN</td>\n",
       "    </tr>\n",
       "  </tbody>\n",
       "</table>\n",
       "</div>"
      ],
      "text/plain": [
       "     a    b   c   d\n",
       "1  1.5  3.0 NaN NaN\n",
       "2  6.0  7.5 NaN NaN\n",
       "3  NaN  NaN NaN NaN\n",
       "4  NaN  NaN NaN NaN"
      ]
     },
     "metadata": {},
     "output_type": "display_data"
    }
   ],
   "source": [
    "###\n",
    "# YOUR CODE HERE\n",
    "###\n",
    "\n",
    "pandas_sum = df1 + df2\n",
    "\n",
    "display(pandas_sum)"
   ]
  },
  {
   "cell_type": "markdown",
   "metadata": {},
   "source": [
    "2. Add the underlying numpy objects of the two dataframes, and print the result. (*0.5 points*)"
   ]
  },
  {
   "cell_type": "code",
   "execution_count": 24,
   "metadata": {},
   "outputs": [
    {
     "data": {
      "text/plain": [
       "array([[ 1.5,  3. ,  4.5],\n",
       "       [ 6. ,  7.5,  9. ],\n",
       "       [10.5, 12. , 13.5]])"
      ]
     },
     "metadata": {},
     "output_type": "display_data"
    }
   ],
   "source": [
    "###\n",
    "# YOUR CODE HERE\n",
    "###\n",
    "\n",
    "numpy_sum = df1.to_numpy() + df2.to_numpy()\n",
    "\n",
    "display(numpy_sum)"
   ]
  },
  {
   "cell_type": "markdown",
   "metadata": {},
   "source": [
    "3. Compare the two results that you obtained and comment if and **why** they are different. (*3 points*)"
   ]
  },
  {
   "cell_type": "code",
   "execution_count": null,
   "metadata": {},
   "outputs": [],
   "source": [
    "###\n",
    "# YOUR COMMENT HERE\n",
    "###\n",
    "\n",
    "display(pandas_sum)\n",
    "display(numpy_sum)\n"
   ]
  },
  {
   "cell_type": "markdown",
   "metadata": {},
   "source": [
    "The main diffrence between `df1.to_numpy() + df2.to_numpy()` and `df1 + df2` is:\n",
    " - numpy infers which rows and columns to add form the shape of the objects\n",
    " - pandas adds elements together which are in the same row and in the same column\n",
    "The addition of the dataframes will always work even if the shapes do not match, this is not the case with numpy:\n",
    "since df1 and df2 have the same shape, the numpy arrays will also have the same shape and it will be possible to add them together\n",
    "this numpy addition does **not** hovever correspond to adding the dataframes which will differentiate between rows and collumns with diffrent names"
   ]
  }
 ],
 "metadata": {
  "kernelspec": {
   "display_name": ".venv (3.11.5)",
   "language": "python",
   "name": "python3"
  },
  "language_info": {
   "codemirror_mode": {
    "name": "ipython",
    "version": 3
   },
   "file_extension": ".py",
   "mimetype": "text/x-python",
   "name": "python",
   "nbconvert_exporter": "python",
   "pygments_lexer": "ipython3",
   "version": "3.11.5"
  }
 },
 "nbformat": 4,
 "nbformat_minor": 2
}
