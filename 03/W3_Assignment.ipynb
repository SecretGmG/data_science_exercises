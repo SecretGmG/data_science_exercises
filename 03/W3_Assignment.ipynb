{
 "cells": [
  {
   "cell_type": "markdown",
   "metadata": {},
   "source": [
    "<h2><center>Week 3 - Assignment</center></h2>\n",
    "<h3><center>Programming for Data Science 2025</center></h3>"
   ]
  },
  {
   "cell_type": "markdown",
   "metadata": {},
   "source": [
    "Exercises for the topics covered in the third lecture.\n",
    "\n",
    "The exercise will be marked as passed if you get **at least 10/18** points.\n",
    "\n",
    "Exercises must be handed in via **ILIAS** (Homework assignments). Deliver your submission as a compressed file (zip) containing one .py or .ipynb file with all exercises. The name of both the .zip and the .py/.ipynb file must be *SurnameName* of the two members of the group. Example: Annina Helmy + Markus Anwander = *HelmyAnnina_AnwanderMarkus.zip* .\n",
    "\n",
    "It's important to use comments to explain your code and show that you're able to take ownership of the exercises and discuss them.\n",
    "\n",
    "You are not expected to collaborate outside of the group on exercises and submitting other groups’ code as your own will result in 0 points.\n",
    "\n",
    "For question about the lecture content or exam, contact: *annina.helmy@students.unibe.ch* with the subject: *Programming for Data Science 2025 - Lecture XY*.\n",
    "For questions about the excercise/grading of excercises, contact: *thea.waldleben@students.unibe.ch* or *patricia.gribi@students.unibe.ch* with the subject: *Programming for Data Science 2025 - Excercise XY*.\n",
    "**Deadline: 14:00, March 13, 2025.**"
   ]
  },
  {
   "cell_type": "markdown",
   "metadata": {},
   "source": [
    "<h3 style=\"text-align:left;\">Exercise 1 - Error investigation<span style=\"float: right\">2 points</span></h3>"
   ]
  },
  {
   "cell_type": "markdown",
   "metadata": {},
   "source": [
    "The code below squares and sums the numbers in the array *arr*, and holds the result in the variable *squared_sum*, which should be 1135. However, that is not the case. Correct the code and explain in a comment , clearly and amply, what was wrong."
   ]
  },
  {
   "cell_type": "code",
   "execution_count": 4,
   "metadata": {
    "ExecuteTime": {
     "end_time": "2025-03-05T16:33:08.432599Z",
     "start_time": "2025-03-05T16:33:07.876774Z"
    }
   },
   "outputs": [
    {
     "data": {
      "text/plain": [
       "np.int64(-145)"
      ]
     },
     "execution_count": 4,
     "metadata": {},
     "output_type": "execute_result"
    }
   ],
   "source": [
    "import numpy as np\n",
    "\n",
    "arr = np.array([13, 14, 15, 16, 17], dtype=np.int8)\n",
    "squared_sum = np.sum(arr ** 2)\n",
    "squared_sum"
   ]
  },
  {
   "cell_type": "code",
   "execution_count": 5,
   "metadata": {},
   "outputs": [
    {
     "data": {
      "text/plain": [
       "np.int64(1135)"
      ]
     },
     "execution_count": 5,
     "metadata": {},
     "output_type": "execute_result"
    }
   ],
   "source": [
    "###\n",
    "# YOUR COMMENT HERE\n",
    "# The code does not work beacuse the dtype of the array is np.int8, which is not enough to store the squared sum of the array.\n",
    "# we can fix the code by casting the array before squaring it.\n",
    "###\n",
    "squared_sum = np.sum(arr.astype(np.int64) ** 2)\n",
    "squared_sum"
   ]
  },
  {
   "cell_type": "markdown",
   "metadata": {},
   "source": [
    "<h3 style=\"text-align:left;\">Exercise 2 - Vacation selector<span style=\"float: right\">3 points</span></h3>"
   ]
  },
  {
   "cell_type": "markdown",
   "metadata": {},
   "source": [
    "The code below defines five vacation destinations (*locations*) and four attributes for each (*attributes*). Each row describes one destination, and the columns represent scores on the factors scenery, activities, food, and nightlife.\n",
    "\n",
    "Write a function *vacation_advisor* that asks the user whether they find each of the attributes important or not, and suggests the best vacation spot based on these preferences.\n",
    "\n",
    "Use techniques from the third lecture to solve the exercise.\n",
    "\n",
    "Example interaction:\n",
    "```python\n",
    "Is scenery important to you [y/n]?    > y\n",
    "Is activities important to you [y/n]? > y\n",
    "Is food important to you [y/n]?       > n\n",
    "Is nightlife important to you [y/n]?  > n\n",
    "Based on your preferences, the best destination is Australia\n",
    "```"
   ]
  },
  {
   "cell_type": "code",
   "execution_count": 6,
   "metadata": {},
   "outputs": [],
   "source": [
    "# List of destinations\n",
    "locations = np.array([ \"Hawaii\", \"Thailand\", \"Italy\", \"Australia\", \"Japan\" ])\n",
    "\n",
    "# List of attributes for each destination. Each column is an attribute. Each row a destination.\n",
    "attributes = np.array([\n",
    "    [8, 8, 7, 6],\n",
    "    [7, 9, 8, 7],\n",
    "    [8, 6, 9, 7],\n",
    "    [9, 8, 8, 6],\n",
    "    [7, 9, 7, 8]\n",
    "])\n",
    "\n",
    "# Declare attribute names and initialize boolean array with preferences\n",
    "attribute_names = ['scenery', 'activities', 'food', 'nightlife']\n"
   ]
  },
  {
   "cell_type": "code",
   "execution_count": 7,
   "metadata": {},
   "outputs": [
    {
     "name": "stdout",
     "output_type": "stream",
     "text": [
      "Based on your preferences, the best destination is Italy\n"
     ]
    }
   ],
   "source": [
    "###\n",
    "# YOUR CODE GOES HERE\n",
    "def vacation_advisor():\n",
    "    mask = np.array([input(f'Is {attribute} important to you [y/n]').lower() == 'y' for attribute in attribute_names])\n",
    "    best_destination = locations[np.argmax(attributes[:,mask].sum(axis=1))]\n",
    "    print(f'Based on your preferences, the best destination is {best_destination}')\n",
    "    return best_destination\n",
    "\n",
    "_ = vacation_advisor()\n",
    "###"
   ]
  },
  {
   "cell_type": "markdown",
   "metadata": {},
   "source": [
    "<h3 style=\"text-align:left;\">Exercise 3 - Indexing<span style=\"float: right\">3 points</span></h3>"
   ]
  },
  {
   "cell_type": "markdown",
   "metadata": {},
   "source": [
    "You have two arrays of the same length: temperature *temp*, and humidity, *rh*. Write a program that:\n",
    "1) Substitutes the values of *temp* for which the corresponding values of *rh* is less than 0.3 with *np.nan*.\n",
    "2) On this new temperature array, calculate the mean value (do **not** calculate it on the original array).\n",
    "\n",
    "As an example:\n",
    "\n",
    "```python\n",
    "temp = [70, 80, 90]\n",
    "rh = [0.5, 0.2, 0.6]\n",
    "\n",
    "temp_nan --> [70, np.nan, 90]\n",
    "temp_avg --> 80\n",
    "```"
   ]
  },
  {
   "cell_type": "code",
   "execution_count": 22,
   "metadata": {
    "ExecuteTime": {
     "end_time": "2025-03-05T16:39:24.068353Z",
     "start_time": "2025-03-05T16:39:24.064654Z"
    }
   },
   "outputs": [],
   "source": [
    "# Generate some surrogate data\n",
    "\n",
    "np.random.seed(29041996)  # Make sure we all have the same data\n",
    "temp = 20 * np.cos(np.linspace(0, 2 * np.pi, 100)) + 80 + 2 * np.random.randn(100)\n",
    "rh = np.abs(0.1 * np.cos(np.linspace(0, 4 * np.pi, 100)) \n",
    "            + 0.3 + 0.05 * np.random.randn(100))"
   ]
  },
  {
   "cell_type": "code",
   "execution_count": 24,
   "metadata": {},
   "outputs": [
    {
     "name": "stdout",
     "output_type": "stream",
     "text": [
      "80.18132789061056\n",
      "79.00078388998652\n"
     ]
    }
   ],
   "source": [
    "###\n",
    "# YOUR CODE GOES HERE\n",
    "###\n",
    "print(np.mean(temp))\n",
    "def filter(temp):\n",
    "     temp[rh<0.3] = np.nan\n",
    "     return temp\n",
    "\n",
    "\n",
    "newTemp = filter(temp)\n",
    "ave = np.nanmean(newTemp)\n",
    "print(ave)\n",
    "\n",
    "\n",
    "\n"
   ]
  },
  {
   "cell_type": "markdown",
   "metadata": {},
   "source": [
    "<h3 style=\"text-align:left;\">Exercise 4 - Base converter<span style=\"float: right\">2 points</span></h3>"
   ]
  },
  {
   "cell_type": "markdown",
   "metadata": {},
   "source": [
    "Write a function *int_to_bin* that takes a positive integer as input and returns the binary equivalent of that integer.\n",
    "\n",
    "You can **not** use built-in methods such as *bin()* in your solution."
   ]
  },
  {
   "cell_type": "code",
   "execution_count": 17,
   "metadata": {},
   "outputs": [
    {
     "name": "stdout",
     "output_type": "stream",
     "text": [
      "1010\n",
      "0\n",
      "11111111\n"
     ]
    }
   ],
   "source": [
    "###\n",
    "# YOUR CODE GOES HERE\n",
    "def int_to_bin(n : int) -> str:\n",
    "    assert n >= 0, 'n must be a positive integer'\n",
    "    binary = ''\n",
    "    # handle this case seperately because otherwise we would return the empty string for n = 0\n",
    "    if n == 0:\n",
    "        return '0'\n",
    "    while n > 0:\n",
    "        #n&2 is the remainder of the division by 2\n",
    "        binary = str(n % 2) + binary\n",
    "        # right shift n by 1\n",
    "        n = n >> 1\n",
    "    return binary\n",
    "\n",
    "print(int_to_bin(10))\n",
    "print(int_to_bin(0))\n",
    "print(int_to_bin(255))\n",
    "###\n"
   ]
  },
  {
   "cell_type": "markdown",
   "metadata": {},
   "source": [
    "<h3 style=\"text-align:left;\">Exercise 5 - Broadcasting<span style=\"float: right\">2 points</span></h3>"
   ]
  },
  {
   "cell_type": "markdown",
   "metadata": {},
   "source": [
    "Reshape *a* so it is possible to multiply *a* and *b*, and explain why you had to reshape *a* to be able to multiply the two arrays."
   ]
  },
  {
   "cell_type": "code",
   "execution_count": null,
   "metadata": {},
   "outputs": [
    {
     "name": "stdout",
     "output_type": "stream",
     "text": [
      "(2, 3)\n",
      "(2,)\n",
      "(3, 2)\n",
      "[[ 2  6]\n",
      " [ 6 12]\n",
      " [10 18]]\n"
     ]
    }
   ],
   "source": [
    "import numpy as np\n",
    "\n",
    "a = np.array([[1, 2, 3], [4, 5, 6]])\n",
    "b = np.array([2, 3])\n",
    "print(a.shape)\n",
    "print(b.shape)\n",
    "a = np.reshape(a,(3,2))\n",
    "print(a.shape)\n",
    "print(np.multiply(a,b))\n",
    "\n",
    "###\n",
    "# YOUR CODE GOES HERE\n",
    "###\n"
   ]
  },
  {
   "cell_type": "code",
   "execution_count": null,
   "metadata": {},
   "outputs": [],
   "source": [
    "###\n",
    "# YOUR COMMENT HERE\n",
    "###\n",
    "\n",
    "# It is a violation of broadcasting rule 3.\n",
    "# Since the number of dimensions differs, the one with fewer dimensions will be padded with a one on the left (b.shape -> (1,2)) \n",
    "# Since a.shape = 2,3, b.shape = 1,2: rule 3 aplies on the second dimension since neither is 1\n",
    "\n",
    "#reshaping a to (3,2) solves this problem, since a.shape = 3,2, b.shape = 1,2 --> second dimension is no longer different"
   ]
  },
  {
   "cell_type": "markdown",
   "metadata": {},
   "source": [
    "<h3 style=\"text-align:left;\">Exercise 6 - Find nearest neighbor <span style=\"float: right\">3 points</span></h3>"
   ]
  },
  {
   "cell_type": "markdown",
   "metadata": {},
   "source": [
    "Complete the missing functions to implement a k-Nearest Neighbors (k-NN) classifier from scratch.\n",
    "https://en.wikipedia.org/wiki/K-nearest_neighbors_algorithm\n",
    "Knn is a simple machine learning algorithm. It works by comparing new data points to existing ones and classifying them based on similarity (distance).\n",
    "\n",
    "When a new data point is given, KNN calculates the distance between this point and all other points in the dataset.\n",
    "The most common method is Euclidean distance. The algorithm selects the K closest points (neighbors) from the dataset.\n",
    "For classification, the algorithm assigns the most common class among the K neighbors to the new data point (Majority Voting).\n",
    "\n",
    "**Your task**:\n",
    "1. Implement the Euclidean distance function.\n",
    "2. Implement function to compute distance between a test point and all training points.\n",
    "4. Run and test your implementation."
   ]
  },
  {
   "cell_type": "code",
   "execution_count": 20,
   "metadata": {
    "ExecuteTime": {
     "end_time": "2025-03-06T10:43:59.490502Z",
     "start_time": "2025-03-06T10:43:59.486291Z"
    }
   },
   "outputs": [],
   "source": [
    "import matplotlib.pyplot as plt\n",
    "# Dataset: [Feature1, Feature2, Class]\n",
    "data = np.array([\n",
    "    [2.0, 4.0, 0],\n",
    "    [3.0, 3.0, 0],\n",
    "    [6.0, 8.0, 1],\n",
    "    [7.0, 9.0, 1],\n",
    "    [4.0, 5.0, 0],\n",
    "    [5.0, 6.0, 1],\n",
    "    [3.0, 5.0, 0],\n",
    "    [4.0, 6.0, 1],\n",
    "])"
   ]
  },
  {
   "cell_type": "code",
   "execution_count": 21,
   "metadata": {
    "ExecuteTime": {
     "end_time": "2025-03-06T10:44:14.388396Z",
     "start_time": "2025-03-06T10:44:14.337255Z"
    }
   },
   "outputs": [
    {
     "name": "stdout",
     "output_type": "stream",
     "text": [
      "Training data:\n",
      " [[2. 4.]\n",
      " [3. 3.]\n",
      " [6. 8.]\n",
      " [7. 9.]\n",
      " [4. 5.]\n",
      " [5. 6.]\n",
      " [3. 5.]\n",
      " [4. 6.]]\n",
      "Labels: [0. 0. 1. 1. 0. 1. 0. 1.]\n"
     ]
    },
    {
     "data": {
      "text/plain": [
       "Text(0.5, 1.0, 'Training data')"
      ]
     },
     "execution_count": 21,
     "metadata": {},
     "output_type": "execute_result"
    },
    {
     "data": {
      "image/png": "[encoded data removed]",
      "text/plain": [
       "<Figure size 600x600 with 1 Axes>"
      ]
     },
     "metadata": {},
     "output_type": "display_data"
    }
   ],
   "source": [
    "# Features and labels\n",
    "X_train = data[:, :-1] # first two columns\n",
    "y_train = data[:, -1] # last column\n",
    "\n",
    "print(\"Training data:\\n\", X_train)\n",
    "print(\"Labels:\", y_train)\n",
    "plt.figure(figsize=(6,6))\n",
    "colors = ['blue' if label == 0 else 'green' for label in y_train]\n",
    "plt.scatter(data[:, 0], data[:, 1], c=colors, edgecolors='black', s=100)\n",
    "plt.title('Training data')"
   ]
  },
  {
   "cell_type": "code",
   "execution_count": null,
   "metadata": {
    "ExecuteTime": {
     "end_time": "2025-03-06T10:44:17.547378Z",
     "start_time": "2025-03-06T10:44:17.543608Z"
    }
   },
   "outputs": [],
   "source": [
    "# Euclidean distance\n",
    "from collections import Counter\n",
    "\n",
    "def euclidean_distance(p1, p2):\n",
    "    \"\"\"\n",
    "    Calculate the Euclidean distance between two points.\n",
    "    :param p1: coordinates of first point\n",
    "    :param p2: coordinates of second point\n",
    "    :return: Euclidean distance (float)\n",
    "    \"\"\"\n",
    "    ## YOUR CODE GOES HERE\n",
    "    return np.linalg.norm(p1 - p2) \n",
    "    # return np.sqrt(np.sum((p1 - p2) ** 2))\n",
    "\n",
    "# Compute distance between all test points and all training points\n",
    "def compute_distances(X_train, y_train, test_point):\n",
    "    \"\"\"\n",
    "    Compute the Euclidean distance between a test point and all training points.\n",
    "    :param X_train (numpy array): training data\n",
    "    :param test_point (numpy array): test point\n",
    "    :return list of tuples (distance, label) for each training point\n",
    "    \"\"\"\n",
    "    ## YOUR CODE GOES HERE\n",
    "    # simply iterate over each training point and calculate the distance between the training point and the test point\n",
    "    return [(euclidean_distance(y, test_point), label) for y, label in zip(X_train, y_train)]"
   ]
  },
  {
   "cell_type": "code",
   "execution_count": 31,
   "metadata": {
    "ExecuteTime": {
     "end_time": "2025-03-06T10:44:18.745541Z",
     "start_time": "2025-03-06T10:44:18.727892Z"
    }
   },
   "outputs": [
    {
     "name": "stdout",
     "output_type": "stream",
     "text": [
      "[(np.float64(4.272001872658765), np.float64(0.0)), (np.float64(3.905124837953327), np.float64(0.0)), (np.float64(2.5), np.float64(1.0)), (np.float64(3.640054944640259), np.float64(1.0)), (np.float64(2.0615528128088303), np.float64(0.0)), (np.float64(1.118033988749895), np.float64(1.0)), (np.float64(3.0413812651491097), np.float64(0.0)), (np.float64(2.0615528128088303), np.float64(1.0))]\n",
      "Prediction for [6.  5.5]: 1.0\n"
     ]
    },
    {
     "data": {
      "image/png": "[encoded data removed]",
      "text/plain": [
       "<Figure size 600x600 with 1 Axes>"
      ]
     },
     "metadata": {},
     "output_type": "display_data"
    }
   ],
   "source": [
    "### FOR TESTING YOUR IMPLEMENTAITON - Run this Cell ###\n",
    "def get_neighbors(X_train, y_train, test_point, k):\n",
    "    distances = compute_distances(X_train, y_train, test_point)\n",
    "    print(distances)\n",
    "    distances.sort()\n",
    "    neighbors = distances[:k]\n",
    "    return neighbors\n",
    "\n",
    "def predict(X_train, y_train,  test_point, k = 3 ):\n",
    "    neighbors = get_neighbors(X_train, y_train, test_point, k)\n",
    "    labels = [label for _, label in neighbors]\n",
    "    most_common = Counter(labels).most_common(1)\n",
    "    return most_common[0][0]\n",
    "\n",
    "test_point = np.array([6, 5.5])\n",
    "k = 3\n",
    "prediction = predict(X_train, y_train, test_point, k)\n",
    "print(f\"Prediction for {test_point}: {prediction}\")\n",
    "\n",
    "\n",
    "## Plot the dataset\n",
    "plt.figure(figsize = (6,6))\n",
    "\n",
    "# Separate class 0 and class 1 points for labeling\n",
    "class_0 = X_train[y_train == 0]\n",
    "class_1 = X_train[y_train == 1]\n",
    "\n",
    "# Scatter plot for training points with different colors\n",
    "plt.scatter(class_0[:, 0], class_0[:, 1], c='blue', edgecolors='black', s=100, label=\"Class 0\")\n",
    "plt.scatter(class_1[:, 0], class_1[:, 1], c='green', edgecolors='black', s=100, label=\"Class 1\")\n",
    "\n",
    "# Mark test point\n",
    "plt.scatter(test_point[0], test_point[1], c='red', edgecolors='black', s=150, label=f'Prediction: Class {prediction}', marker='X')\n",
    "\n",
    "# Plot settings\n",
    "plt.xlabel(\"Feature 1\")\n",
    "plt.ylabel(\"Feature 2\")\n",
    "plt.title(\"KNN Classification Visualization\")\n",
    "plt.legend()\n",
    "plt.show()"
   ]
  },
  {
   "cell_type": "markdown",
   "metadata": {},
   "source": [
    "<h3 style=\"text-align:left;\">Exercise 7 - Moving average (on paper) <span style=\"float: right\">3 points</span></h3>"
   ]
  },
  {
   "cell_type": "markdown",
   "metadata": {},
   "source": [
    "Given the array of values, *a*, we can calculate the moving average by averaging nearby values and repeating the procedure sliding along the array. Here's an example of a 3-point moving average (ignoring the edges), with a for loop:"
   ]
  },
  {
   "cell_type": "code",
   "execution_count": 24,
   "metadata": {
    "ExecuteTime": {
     "end_time": "2025-03-06T10:47:31.200645Z",
     "start_time": "2025-03-06T10:47:31.195184Z"
    }
   },
   "outputs": [
    {
     "name": "stdout",
     "output_type": "stream",
     "text": [
      "[35.3 30.8 32.2 29.8 28.7 28.2 33.6 31.3 28.6 31.3 28.5 28.6 30.8 29.4\n",
      " 31.7 31.9 31.2 29.3 30.7 33.3]\n",
      "[35.3        32.76666667 30.93333333 30.23333333 28.9        30.16666667\n",
      " 31.03333333 31.16666667 30.4        29.46666667 29.46666667 29.3\n",
      " 29.6        30.63333333 31.         31.6        30.8        30.4\n",
      " 31.1        33.3       ]\n"
     ]
    }
   ],
   "source": [
    "a = np.round(30 + np.random.randn(20) * 2, 1)\n",
    "print(a)\n",
    "\n",
    "# Moving average\n",
    "a_avg = np.zeros_like(a)\n",
    "# We're just ignoring the edge effects here\n",
    "for i in range(1, len(a) - 1):\n",
    "    sub = a[i - 1:i + 2]\n",
    "    a_avg[i] = sub.mean()\n",
    "# For the first and last point, we use the original values.\n",
    "a_avg[[0, -1]] = a[[0, -1]]\n",
    "print(a_avg)"
   ]
  },
  {
   "cell_type": "markdown",
   "metadata": {},
   "source": [
    "Write a function *mov_avg* that takes an array in input and returns its 3-point moving average. You **have to use broadcasting** to compute the moving average. As in the example, use the original array values at the borders."
   ]
  },
  {
   "cell_type": "code",
   "execution_count": 32,
   "metadata": {},
   "outputs": [
    {
     "name": "stdout",
     "output_type": "stream",
     "text": [
      "[35.3        32.76666667 30.93333333 30.23333333 28.9        30.16666667\n",
      " 31.03333333 31.16666667 30.4        29.46666667 29.46666667 29.3\n",
      " 29.6        30.63333333 31.         31.6        30.8        30.4\n",
      " 31.1        33.3       ]\n"
     ]
    }
   ],
   "source": [
    "###\n",
    "# YOUR CODE GOES HERE\n",
    "def mov_avg(a : np.ndarray):\n",
    "    avg = a.copy()\n",
    "    avg[1:-1] += a[2:]\n",
    "    avg[1:-1] += a[:-2]\n",
    "    avg[1:-1] /= 3 # i guess this is a form of broadcasting, but i didn't find any other reasonable way to solve this exercise with boradcasting\n",
    "    return avg    \n",
    "###\n",
    "print(mov_avg(a))"
   ]
  },
  {
   "cell_type": "markdown",
   "metadata": {},
   "source": []
  }
 ],
 "metadata": {
  "kernelspec": {
   "display_name": "Python 3",
   "language": "python",
   "name": "python3"
  },
  "language_info": {
   "codemirror_mode": {
    "name": "ipython",
    "version": 3
   },
   "file_extension": ".py",
   "mimetype": "text/x-python",
   "name": "python",
   "nbconvert_exporter": "python",
   "pygments_lexer": "ipython3",
   "version": "3.13.2"
  }
 },
 "nbformat": 4,
 "nbformat_minor": 2
}
