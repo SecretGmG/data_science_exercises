{
 "cells": [
  {
   "cell_type": "markdown",
   "metadata": {},
   "source": [
    "<h2><center>Week 5 - Assignment</center></h2>\n",
    "<h3><center>Programming for Data Science 2025</center></h3>"
   ]
  },
  {
   "cell_type": "markdown",
   "metadata": {},
   "source": [
    "Exercises for the topics covered in the fifth lecture.\n",
    "\n",
    "The exercise will be marked as passed if you get **at least 10/17** points.\n",
    "\n",
    "Exercises must be handed in via **ILIAS** (Homework assignments). Deliver your submission as a compressed file (zip) containing one .py or .ipynb file with all exercises. The name of both the .zip and the .py/.ipynb file must be *SurnameName* of the two members of the group. Example: Annina Helmy + Markus Anwander = *HelmyAnnina_AnwanderMarkus.zip* .\n",
    "\n",
    "It's important to use comments to explain your code and show that you're able to take ownership of the exercises and discuss them.\n",
    "\n",
    "You are not expected to collaborate outside of the group on exercises and submitting other groups’ code as your own will result in 0 points.\n",
    "\n",
    "For question about the lecture content or exam, contact: *annina.helmy@students.unibe.ch* with the subject: *Programming for Data Science 2025 - Lecture XY*.\n",
    "For questions about the excercise/grading of excercises, contact: *thea.waldleben@students.unibe.ch* or *patricia.gribi@students.unibe.ch* with the subject: *Programming for Data Science 2025 - Excercise XY*.\n",
    "\n",
    "**Deadline: 14:00, March 27, 2025.**"
   ]
  },
  {
   "cell_type": "markdown",
   "metadata": {},
   "source": [
    "<h3 style=\"text-align:left;\">Exercise 1 - Fitbit dataset<span style=\"float: right\">3 points</span></h3>"
   ]
  },
  {
   "cell_type": "markdown",
   "metadata": {},
   "source": [
    "We will work with three datasets - 'activity.csv', 'calories.csv', and 'last_participant.csv', which contains activity tracker data from https://www.kaggle.com/datasets/arashnic/fitbit\n",
    "\n",
    "If you are unable to do this exercise, you can load the dataset 'combined_solution.csv' for the next exercise. "
   ]
  },
  {
   "cell_type": "markdown",
   "metadata": {},
   "source": [
    "1. **Data preparation** (*1 point*)\n",
    "\n",
    "    - Load the two datasets 'activity.csv' and 'calories.csv'.\n",
    "    - Use pd.to_datetime to standardize the ActivityDate columns (https://pandas.pydata.org/docs/reference/api/pandas.to_datetime.html)"
   ]
  },
  {
   "cell_type": "code",
   "execution_count": 24,
   "metadata": {},
   "outputs": [],
   "source": [
    "import pandas as pd\n",
    "import numpy as np"
   ]
  },
  {
   "cell_type": "code",
   "execution_count": 25,
   "metadata": {},
   "outputs": [
    {
     "name": "stderr",
     "output_type": "stream",
     "text": [
      "C:\\Users\\cedric\\AppData\\Local\\Temp\\ipykernel_18832\\3281208658.py:8: UserWarning: Could not infer format, so each element will be parsed individually, falling back to `dateutil`. To ensure parsing is consistent and as-expected, please specify a format.\n",
      "  activity_df['ActivityDate'] = pd.to_datetime(activity_df['ActivityDate'])\n",
      "C:\\Users\\cedric\\AppData\\Local\\Temp\\ipykernel_18832\\3281208658.py:9: UserWarning: Could not infer format, so each element will be parsed individually, falling back to `dateutil`. To ensure parsing is consistent and as-expected, please specify a format.\n",
      "  calories_df['ActivityDate'] = pd.to_datetime(calories_df['ActivityDate'])\n"
     ]
    },
    {
     "data": {
      "application/vnd.microsoft.datawrangler.viewer.v0+json": {
       "columns": [
        {
         "name": "index",
         "rawType": "int64",
         "type": "integer"
        },
        {
         "name": "ID",
         "rawType": "int64",
         "type": "integer"
        },
        {
         "name": "ActivityDate",
         "rawType": "datetime64[ns]",
         "type": "datetime"
        },
        {
         "name": "TotalSteps",
         "rawType": "float64",
         "type": "float"
        },
        {
         "name": "TotalDistance",
         "rawType": "float64",
         "type": "float"
        },
        {
         "name": "VeryActiveDistance",
         "rawType": "float64",
         "type": "float"
        },
        {
         "name": "ModeratelyActiveDistance",
         "rawType": "float64",
         "type": "float"
        },
        {
         "name": "LightActiveDistance",
         "rawType": "float64",
         "type": "float"
        },
        {
         "name": "VeryActiveMinutes",
         "rawType": "int64",
         "type": "integer"
        },
        {
         "name": "FairlyActiveMinutes",
         "rawType": "int64",
         "type": "integer"
        },
        {
         "name": "LightlyActiveMinutes",
         "rawType": "int64",
         "type": "integer"
        }
       ],
       "conversionMethod": "pd.DataFrame",
       "ref": "eb696ba4-77c9-4f36-9363-9cb761db5793",
       "rows": [
        [
         "0",
         "1503960366",
         "2016-04-12 00:00:00",
         "13162.0",
         "8.5",
         "1.879999995",
         "0.550000012",
         "6.059999943",
         "25",
         "13",
         "328"
        ],
        [
         "1",
         "1503960366",
         "2016-04-13 00:00:00",
         "10735.0",
         "6.96999979",
         "1.570000052",
         "0.689999998",
         "4.710000038",
         "21",
         "19",
         "217"
        ],
        [
         "2",
         "1503960366",
         "2016-04-14 00:00:00",
         "10460.0",
         "6.739999771",
         "2.440000057",
         "0.400000006",
         "3.910000086",
         "30",
         "11",
         "181"
        ],
        [
         "3",
         "1503960366",
         "2016-04-15 00:00:00",
         "9762.0",
         "6.28000021",
         "2.140000105",
         "1.25999999",
         "2.829999924",
         "29",
         "34",
         "209"
        ],
        [
         "4",
         "1503960366",
         "2016-04-16 00:00:00",
         "12669.0",
         "8.159999847",
         "2.710000038",
         "0.409999996",
         "5.039999962",
         "36",
         "10",
         "221"
        ]
       ],
       "shape": {
        "columns": 10,
        "rows": 5
       }
      },
      "text/html": [
       "<div>\n",
       "<style scoped>\n",
       "    .dataframe tbody tr th:only-of-type {\n",
       "        vertical-align: middle;\n",
       "    }\n",
       "\n",
       "    .dataframe tbody tr th {\n",
       "        vertical-align: top;\n",
       "    }\n",
       "\n",
       "    .dataframe thead th {\n",
       "        text-align: right;\n",
       "    }\n",
       "</style>\n",
       "<table border=\"1\" class=\"dataframe\">\n",
       "  <thead>\n",
       "    <tr style=\"text-align: right;\">\n",
       "      <th></th>\n",
       "      <th>ID</th>\n",
       "      <th>ActivityDate</th>\n",
       "      <th>TotalSteps</th>\n",
       "      <th>TotalDistance</th>\n",
       "      <th>VeryActiveDistance</th>\n",
       "      <th>ModeratelyActiveDistance</th>\n",
       "      <th>LightActiveDistance</th>\n",
       "      <th>VeryActiveMinutes</th>\n",
       "      <th>FairlyActiveMinutes</th>\n",
       "      <th>LightlyActiveMinutes</th>\n",
       "    </tr>\n",
       "  </thead>\n",
       "  <tbody>\n",
       "    <tr>\n",
       "      <th>0</th>\n",
       "      <td>1503960366</td>\n",
       "      <td>2016-04-12</td>\n",
       "      <td>13162.0</td>\n",
       "      <td>8.50</td>\n",
       "      <td>1.88</td>\n",
       "      <td>0.55</td>\n",
       "      <td>6.06</td>\n",
       "      <td>25</td>\n",
       "      <td>13</td>\n",
       "      <td>328</td>\n",
       "    </tr>\n",
       "    <tr>\n",
       "      <th>1</th>\n",
       "      <td>1503960366</td>\n",
       "      <td>2016-04-13</td>\n",
       "      <td>10735.0</td>\n",
       "      <td>6.97</td>\n",
       "      <td>1.57</td>\n",
       "      <td>0.69</td>\n",
       "      <td>4.71</td>\n",
       "      <td>21</td>\n",
       "      <td>19</td>\n",
       "      <td>217</td>\n",
       "    </tr>\n",
       "    <tr>\n",
       "      <th>2</th>\n",
       "      <td>1503960366</td>\n",
       "      <td>2016-04-14</td>\n",
       "      <td>10460.0</td>\n",
       "      <td>6.74</td>\n",
       "      <td>2.44</td>\n",
       "      <td>0.40</td>\n",
       "      <td>3.91</td>\n",
       "      <td>30</td>\n",
       "      <td>11</td>\n",
       "      <td>181</td>\n",
       "    </tr>\n",
       "    <tr>\n",
       "      <th>3</th>\n",
       "      <td>1503960366</td>\n",
       "      <td>2016-04-15</td>\n",
       "      <td>9762.0</td>\n",
       "      <td>6.28</td>\n",
       "      <td>2.14</td>\n",
       "      <td>1.26</td>\n",
       "      <td>2.83</td>\n",
       "      <td>29</td>\n",
       "      <td>34</td>\n",
       "      <td>209</td>\n",
       "    </tr>\n",
       "    <tr>\n",
       "      <th>4</th>\n",
       "      <td>1503960366</td>\n",
       "      <td>2016-04-16</td>\n",
       "      <td>12669.0</td>\n",
       "      <td>8.16</td>\n",
       "      <td>2.71</td>\n",
       "      <td>0.41</td>\n",
       "      <td>5.04</td>\n",
       "      <td>36</td>\n",
       "      <td>10</td>\n",
       "      <td>221</td>\n",
       "    </tr>\n",
       "  </tbody>\n",
       "</table>\n",
       "</div>"
      ],
      "text/plain": [
       "           ID ActivityDate  TotalSteps  TotalDistance  VeryActiveDistance  \\\n",
       "0  1503960366   2016-04-12     13162.0           8.50                1.88   \n",
       "1  1503960366   2016-04-13     10735.0           6.97                1.57   \n",
       "2  1503960366   2016-04-14     10460.0           6.74                2.44   \n",
       "3  1503960366   2016-04-15      9762.0           6.28                2.14   \n",
       "4  1503960366   2016-04-16     12669.0           8.16                2.71   \n",
       "\n",
       "   ModeratelyActiveDistance  LightActiveDistance  VeryActiveMinutes  \\\n",
       "0                      0.55                 6.06                 25   \n",
       "1                      0.69                 4.71                 21   \n",
       "2                      0.40                 3.91                 30   \n",
       "3                      1.26                 2.83                 29   \n",
       "4                      0.41                 5.04                 36   \n",
       "\n",
       "   FairlyActiveMinutes  LightlyActiveMinutes  \n",
       "0                   13                   328  \n",
       "1                   19                   217  \n",
       "2                   11                   181  \n",
       "3                   34                   209  \n",
       "4                   10                   221  "
      ]
     },
     "metadata": {},
     "output_type": "display_data"
    },
    {
     "data": {
      "application/vnd.microsoft.datawrangler.viewer.v0+json": {
       "columns": [
        {
         "name": "index",
         "rawType": "int64",
         "type": "integer"
        },
        {
         "name": "ID",
         "rawType": "int64",
         "type": "integer"
        },
        {
         "name": "ActivityDate",
         "rawType": "datetime64[ns]",
         "type": "datetime"
        },
        {
         "name": "Calories",
         "rawType": "float64",
         "type": "float"
        }
       ],
       "conversionMethod": "pd.DataFrame",
       "ref": "5df77447-abe0-4f55-a8e2-728bb2871cff",
       "rows": [
        [
         "0",
         "1624580081",
         "2016-04-12 00:00:00",
         "1432.0"
        ],
        [
         "1",
         "1624580081",
         "2016-04-13 00:00:00",
         "1411.0"
        ],
        [
         "2",
         "1624580081",
         "2016-04-14 00:00:00",
         "1572.0"
        ],
        [
         "3",
         "1624580081",
         "2016-04-15 00:00:00",
         "1344.0"
        ],
        [
         "4",
         "1624580081",
         "2016-04-16 00:00:00",
         null
        ]
       ],
       "shape": {
        "columns": 3,
        "rows": 5
       }
      },
      "text/html": [
       "<div>\n",
       "<style scoped>\n",
       "    .dataframe tbody tr th:only-of-type {\n",
       "        vertical-align: middle;\n",
       "    }\n",
       "\n",
       "    .dataframe tbody tr th {\n",
       "        vertical-align: top;\n",
       "    }\n",
       "\n",
       "    .dataframe thead th {\n",
       "        text-align: right;\n",
       "    }\n",
       "</style>\n",
       "<table border=\"1\" class=\"dataframe\">\n",
       "  <thead>\n",
       "    <tr style=\"text-align: right;\">\n",
       "      <th></th>\n",
       "      <th>ID</th>\n",
       "      <th>ActivityDate</th>\n",
       "      <th>Calories</th>\n",
       "    </tr>\n",
       "  </thead>\n",
       "  <tbody>\n",
       "    <tr>\n",
       "      <th>0</th>\n",
       "      <td>1624580081</td>\n",
       "      <td>2016-04-12</td>\n",
       "      <td>1432.0</td>\n",
       "    </tr>\n",
       "    <tr>\n",
       "      <th>1</th>\n",
       "      <td>1624580081</td>\n",
       "      <td>2016-04-13</td>\n",
       "      <td>1411.0</td>\n",
       "    </tr>\n",
       "    <tr>\n",
       "      <th>2</th>\n",
       "      <td>1624580081</td>\n",
       "      <td>2016-04-14</td>\n",
       "      <td>1572.0</td>\n",
       "    </tr>\n",
       "    <tr>\n",
       "      <th>3</th>\n",
       "      <td>1624580081</td>\n",
       "      <td>2016-04-15</td>\n",
       "      <td>1344.0</td>\n",
       "    </tr>\n",
       "    <tr>\n",
       "      <th>4</th>\n",
       "      <td>1624580081</td>\n",
       "      <td>2016-04-16</td>\n",
       "      <td>NaN</td>\n",
       "    </tr>\n",
       "  </tbody>\n",
       "</table>\n",
       "</div>"
      ],
      "text/plain": [
       "           ID ActivityDate  Calories\n",
       "0  1624580081   2016-04-12    1432.0\n",
       "1  1624580081   2016-04-13    1411.0\n",
       "2  1624580081   2016-04-14    1572.0\n",
       "3  1624580081   2016-04-15    1344.0\n",
       "4  1624580081   2016-04-16       NaN"
      ]
     },
     "metadata": {},
     "output_type": "display_data"
    }
   ],
   "source": [
    "###\n",
    "# YOUR CODE HERE\n",
    "###\n",
    "\n",
    "activity_df = pd.read_csv('data/activity.csv')\n",
    "calories_df = pd.read_csv('data/calories.csv')\n",
    "\n",
    "activity_df['ActivityDate'] = pd.to_datetime(activity_df['ActivityDate'])\n",
    "calories_df['ActivityDate'] = pd.to_datetime(calories_df['ActivityDate'])\n",
    "\n",
    "display(activity_df.head())\n",
    "display(calories_df.head())"
   ]
  },
  {
   "cell_type": "markdown",
   "metadata": {},
   "source": [
    "2. **Merging** (*1 point*)\n",
    "\n",
    "    - Consider what information is shared between the two datasets and merge them. Keep in mind that the order of rows is not the same in both datasets!\n",
    "    - Print out the mean \"TotalSteps\" of the merged DataFrame at this point."
   ]
  },
  {
   "cell_type": "code",
   "execution_count": 26,
   "metadata": {},
   "outputs": [
    {
     "name": "stdout",
     "output_type": "stream",
     "text": [
      "mean Total Steps: 7786.439\n"
     ]
    }
   ],
   "source": [
    "###\n",
    "# YOUR CODE HERE\n",
    "###\n",
    "\n",
    "# the default inner join should be fine\n",
    "combined_df = pd.merge(activity_df, calories_df)\n",
    "print(f'mean Total Steps: {combined_df[\"TotalSteps\"].mean():.3f}')"
   ]
  },
  {
   "cell_type": "markdown",
   "metadata": {},
   "source": [
    "3. **Concatenation** (*1 point*)\n",
    "\n",
    "    - The data of one additional participant exists in 'last_participant.csv'. Load this dataset and concatenate it with the merged dataset generated above\n",
    "    - Print out the mean \"TotalSteps\" again"
   ]
  },
  {
   "cell_type": "code",
   "execution_count": 27,
   "metadata": {},
   "outputs": [
    {
     "data": {
      "application/vnd.microsoft.datawrangler.viewer.v0+json": {
       "columns": [
        {
         "name": "index",
         "rawType": "int64",
         "type": "integer"
        },
        {
         "name": "ID",
         "rawType": "int64",
         "type": "integer"
        },
        {
         "name": "ActivityDate",
         "rawType": "datetime64[ns]",
         "type": "datetime"
        },
        {
         "name": "TotalSteps",
         "rawType": "float64",
         "type": "float"
        },
        {
         "name": "TotalDistance",
         "rawType": "float64",
         "type": "float"
        },
        {
         "name": "VeryActiveDistance",
         "rawType": "float64",
         "type": "float"
        },
        {
         "name": "ModeratelyActiveDistance",
         "rawType": "float64",
         "type": "float"
        },
        {
         "name": "LightActiveDistance",
         "rawType": "float64",
         "type": "float"
        },
        {
         "name": "VeryActiveMinutes",
         "rawType": "int64",
         "type": "integer"
        },
        {
         "name": "FairlyActiveMinutes",
         "rawType": "int64",
         "type": "integer"
        },
        {
         "name": "LightlyActiveMinutes",
         "rawType": "int64",
         "type": "integer"
        },
        {
         "name": "Calories",
         "rawType": "float64",
         "type": "float"
        }
       ],
       "conversionMethod": "pd.DataFrame",
       "ref": "e3aa4a42-850f-4770-9c97-e813e6fa9be5",
       "rows": [
        [
         "0",
         "1503960366",
         "2016-04-12 00:00:00",
         "13162.0",
         "8.5",
         "1.879999995",
         "0.550000012",
         "6.059999943",
         "25",
         "13",
         "328",
         "1985.0"
        ],
        [
         "1",
         "1503960366",
         "2016-04-13 00:00:00",
         "10735.0",
         "6.96999979",
         "1.570000052",
         "0.689999998",
         "4.710000038",
         "21",
         "19",
         "217",
         null
        ],
        [
         "2",
         "1503960366",
         "2016-04-14 00:00:00",
         "10460.0",
         "6.739999771",
         "2.440000057",
         "0.400000006",
         "3.910000086",
         "30",
         "11",
         "181",
         "1776.0"
        ],
        [
         "3",
         "1503960366",
         "2016-04-15 00:00:00",
         "9762.0",
         "6.28000021",
         "2.140000105",
         "1.25999999",
         "2.829999924",
         "29",
         "34",
         "209",
         "1745.0"
        ],
        [
         "4",
         "1503960366",
         "2016-04-16 00:00:00",
         "12669.0",
         "8.159999847",
         "2.710000038",
         "0.409999996",
         "5.039999962",
         "36",
         "10",
         "221",
         "1863.0"
        ]
       ],
       "shape": {
        "columns": 11,
        "rows": 5
       }
      },
      "text/html": [
       "<div>\n",
       "<style scoped>\n",
       "    .dataframe tbody tr th:only-of-type {\n",
       "        vertical-align: middle;\n",
       "    }\n",
       "\n",
       "    .dataframe tbody tr th {\n",
       "        vertical-align: top;\n",
       "    }\n",
       "\n",
       "    .dataframe thead th {\n",
       "        text-align: right;\n",
       "    }\n",
       "</style>\n",
       "<table border=\"1\" class=\"dataframe\">\n",
       "  <thead>\n",
       "    <tr style=\"text-align: right;\">\n",
       "      <th></th>\n",
       "      <th>ID</th>\n",
       "      <th>ActivityDate</th>\n",
       "      <th>TotalSteps</th>\n",
       "      <th>TotalDistance</th>\n",
       "      <th>VeryActiveDistance</th>\n",
       "      <th>ModeratelyActiveDistance</th>\n",
       "      <th>LightActiveDistance</th>\n",
       "      <th>VeryActiveMinutes</th>\n",
       "      <th>FairlyActiveMinutes</th>\n",
       "      <th>LightlyActiveMinutes</th>\n",
       "      <th>Calories</th>\n",
       "    </tr>\n",
       "  </thead>\n",
       "  <tbody>\n",
       "    <tr>\n",
       "      <th>0</th>\n",
       "      <td>1503960366</td>\n",
       "      <td>2016-04-12</td>\n",
       "      <td>13162.0</td>\n",
       "      <td>8.50</td>\n",
       "      <td>1.88</td>\n",
       "      <td>0.55</td>\n",
       "      <td>6.06</td>\n",
       "      <td>25</td>\n",
       "      <td>13</td>\n",
       "      <td>328</td>\n",
       "      <td>1985.0</td>\n",
       "    </tr>\n",
       "    <tr>\n",
       "      <th>1</th>\n",
       "      <td>1503960366</td>\n",
       "      <td>2016-04-13</td>\n",
       "      <td>10735.0</td>\n",
       "      <td>6.97</td>\n",
       "      <td>1.57</td>\n",
       "      <td>0.69</td>\n",
       "      <td>4.71</td>\n",
       "      <td>21</td>\n",
       "      <td>19</td>\n",
       "      <td>217</td>\n",
       "      <td>NaN</td>\n",
       "    </tr>\n",
       "    <tr>\n",
       "      <th>2</th>\n",
       "      <td>1503960366</td>\n",
       "      <td>2016-04-14</td>\n",
       "      <td>10460.0</td>\n",
       "      <td>6.74</td>\n",
       "      <td>2.44</td>\n",
       "      <td>0.40</td>\n",
       "      <td>3.91</td>\n",
       "      <td>30</td>\n",
       "      <td>11</td>\n",
       "      <td>181</td>\n",
       "      <td>1776.0</td>\n",
       "    </tr>\n",
       "    <tr>\n",
       "      <th>3</th>\n",
       "      <td>1503960366</td>\n",
       "      <td>2016-04-15</td>\n",
       "      <td>9762.0</td>\n",
       "      <td>6.28</td>\n",
       "      <td>2.14</td>\n",
       "      <td>1.26</td>\n",
       "      <td>2.83</td>\n",
       "      <td>29</td>\n",
       "      <td>34</td>\n",
       "      <td>209</td>\n",
       "      <td>1745.0</td>\n",
       "    </tr>\n",
       "    <tr>\n",
       "      <th>4</th>\n",
       "      <td>1503960366</td>\n",
       "      <td>2016-04-16</td>\n",
       "      <td>12669.0</td>\n",
       "      <td>8.16</td>\n",
       "      <td>2.71</td>\n",
       "      <td>0.41</td>\n",
       "      <td>5.04</td>\n",
       "      <td>36</td>\n",
       "      <td>10</td>\n",
       "      <td>221</td>\n",
       "      <td>1863.0</td>\n",
       "    </tr>\n",
       "  </tbody>\n",
       "</table>\n",
       "</div>"
      ],
      "text/plain": [
       "           ID ActivityDate  TotalSteps  TotalDistance  VeryActiveDistance  \\\n",
       "0  1503960366   2016-04-12     13162.0           8.50                1.88   \n",
       "1  1503960366   2016-04-13     10735.0           6.97                1.57   \n",
       "2  1503960366   2016-04-14     10460.0           6.74                2.44   \n",
       "3  1503960366   2016-04-15      9762.0           6.28                2.14   \n",
       "4  1503960366   2016-04-16     12669.0           8.16                2.71   \n",
       "\n",
       "   ModeratelyActiveDistance  LightActiveDistance  VeryActiveMinutes  \\\n",
       "0                      0.55                 6.06                 25   \n",
       "1                      0.69                 4.71                 21   \n",
       "2                      0.40                 3.91                 30   \n",
       "3                      1.26                 2.83                 29   \n",
       "4                      0.41                 5.04                 36   \n",
       "\n",
       "   FairlyActiveMinutes  LightlyActiveMinutes  Calories  \n",
       "0                   13                   328    1985.0  \n",
       "1                   19                   217       NaN  \n",
       "2                   11                   181    1776.0  \n",
       "3                   34                   209    1745.0  \n",
       "4                   10                   221    1863.0  "
      ]
     },
     "metadata": {},
     "output_type": "display_data"
    },
    {
     "name": "stdout",
     "output_type": "stream",
     "text": [
      "mean Total Steps: 7786.439\n"
     ]
    }
   ],
   "source": [
    "###\n",
    "# YOUR CODE HERE\n",
    "###\n",
    "last_participant_df = pd.read_csv('data/last_participant.csv')\n",
    "display(combined_df.head())\n",
    "print(f'mean Total Steps: {combined_df[\"TotalSteps\"].mean():.3f}')"
   ]
  },
  {
   "cell_type": "markdown",
   "metadata": {},
   "source": [
    "<h3 style=\"text-align:left;\">Exercise 2 - Working with missing data<span style=\"float: right\">5 points</span></h3>"
   ]
  },
  {
   "cell_type": "markdown",
   "metadata": {},
   "source": [
    "In our dataset, some values are missing from the 'TotalSteps' and 'Calories' columns.\n",
    "\n",
    "We can try to approximate these missing values with the data we got. \n",
    "\n",
    "You can load the dataset 'combined_solution.csv' if you were unable to complete the previous exercise."
   ]
  },
  {
   "cell_type": "markdown",
   "metadata": {},
   "source": [
    "1. **Filling in missing values** (*3 points*)\n",
    "\n",
    "    - Calculate the mean steps per calory burnt and mean calories burnt per step, by averaging across all observations in the dataset and then computing the ratio. Print out both values.\n",
    "    - Fill in the null values in the columns 'Calories' and 'TotalSteps' where possible. To fill the values you have to use the factors *\"TotalSteps/Calories\"* and *\"Calories/TotalSteps\"* calculated in the previous point, using one of the two information to fill the other.\n",
    "    - Print out the mean of the columns 'TotalSteps' and 'Calories' before and after filling the missing values."
   ]
  },
  {
   "cell_type": "code",
   "execution_count": 35,
   "metadata": {},
   "outputs": [
    {
     "name": "stdout",
     "output_type": "stream",
     "text": [
      "Means before filling in: \n",
      "steps : 7786.439\n",
      "calories : 2282.607\n",
      "Means after filling in: \n",
      "steps : 7692.465\n",
      "calories : 2275.283\n"
     ]
    }
   ],
   "source": [
    "###\n",
    "# YOUR CODE HERE\n",
    "###\n",
    "\n",
    "filled_in_df = combined_df.copy()\n",
    "\n",
    "mean_steps = combined_df['TotalSteps'].mean()\n",
    "mean_calories = combined_df['Calories'].mean()\n",
    "\n",
    "print(f'Means before filling in: \\nsteps : {mean_steps:.3f}\\ncalories : {mean_calories:.3f}')\n",
    "\n",
    "mask = combined_df['TotalSteps'].isna()\n",
    "filled_in_df.loc[mask, 'TotalSteps'] = combined_df.loc[mask, 'Calories'] * mean_steps / mean_calories\n",
    "\n",
    "mask = combined_df['Calories'].isna()\n",
    "filled_in_df.loc[mask, 'Calories'] = combined_df.loc[mask, 'TotalSteps'] * mean_calories / mean_steps\n",
    "\n",
    "\n",
    "print(f'Means after filling in: \\nsteps : {filled_in_df[\"TotalSteps\"].mean():.3f}\\ncalories : {filled_in_df[\"Calories\"].mean():.3f}')"
   ]
  },
  {
   "cell_type": "markdown",
   "metadata": {},
   "source": [
    "2. **Dropping missing values** (*2 points*)\n",
    "\n",
    "    - Print how many null values there are in the 'Calories' and 'TotalSteps' columns, respectively.\n",
    "    - Drop the rows where **both** 'Calories' and 'TotalSteps' are missing.\n",
    "    - Print number of rows in the final dataset."
   ]
  },
  {
   "cell_type": "code",
   "execution_count": 38,
   "metadata": {},
   "outputs": [
    {
     "name": "stdout",
     "output_type": "stream",
     "text": [
      "Calories      13\n",
      "TotalSteps    13\n",
      "dtype: int64\n",
      "909\n"
     ]
    }
   ],
   "source": [
    "###\n",
    "# YOUR CODE HERE\n",
    "###\n",
    "\n",
    "print(filled_in_df[['Calories', 'TotalSteps']].isna().sum())\n",
    "filtered_df = filled_in_df.loc[filled_in_df['Calories'].isna() & filled_in_df['TotalSteps'].isna()]\n",
    "print(len(filled_in_df))\n"
   ]
  },
  {
   "cell_type": "markdown",
   "metadata": {},
   "source": [
    "<h3 style=\"text-align:left;\">Exercise 3 - Multi-index<span style=\"float: right\">7 points</span></h3>"
   ]
  },
  {
   "cell_type": "markdown",
   "metadata": {},
   "source": [
    "In this exercise you will create and manipulate a multi-index dataframe. First, let's create the dataframe for the exercise:"
   ]
  },
  {
   "cell_type": "code",
   "execution_count": 30,
   "metadata": {},
   "outputs": [],
   "source": [
    "import pandas as pd\n",
    "\n",
    "df = pd.DataFrame(\n",
    "    {\n",
    "        \"idx\": [0, 1, 2],\n",
    "        \"A_X\": [1.1, 1.1, 1.1],\n",
    "        \"A_Y\": [1.2, 1.2, 1.2],\n",
    "        \"B_X\": [1.11, 1.11, 1.11],\n",
    "        \"B_Y\": [1.22, 1.22, 1.22],\n",
    "    }\n",
    ")"
   ]
  },
  {
   "cell_type": "markdown",
   "metadata": {},
   "source": [
    "1. Set the column *idx* as the index of the dataframe. (*1 point*)"
   ]
  },
  {
   "cell_type": "code",
   "execution_count": 39,
   "metadata": {},
   "outputs": [],
   "source": [
    "###\n",
    "# YOUR CODE HERE\n",
    "###\n",
    "df.set_index('idx', inplace=True)"
   ]
  },
  {
   "cell_type": "markdown",
   "metadata": {},
   "source": [
    "2. Create a multi-column stucture. (*3 points*)\n",
    "    - Set the columns *A, B* on the first level and *X, Y* on the second level, taken from the combinations in the original dataframe. \n",
    "    - Set the names of the two new levels as \"L1\" and \"L2\", respectively. \n",
    "    - Print the resulting dataframe."
   ]
  },
  {
   "cell_type": "code",
   "execution_count": 32,
   "metadata": {},
   "outputs": [],
   "source": [
    "###\n",
    "# YOUR CODE HERE\n",
    "###"
   ]
  },
  {
   "cell_type": "markdown",
   "metadata": {},
   "source": [
    "3. From the previous dataframe, re-create a dataframe with a single column level. (*3 points*)\n",
    "    - Create a new column from the first level (L1) of the multi-column. At this point your columns should be ['L1', 'X', 'Y'], with name 'L2'. **NB** The DataFrame method *reset_index* is useful for this part.\n",
    "    - Rename the newly-created column as \"letter\" and the name of the column level as \"L\". Use the appropiate pandas methods for this.\n",
    "    - Print the resulting dataframe."
   ]
  },
  {
   "cell_type": "code",
   "execution_count": 33,
   "metadata": {},
   "outputs": [],
   "source": [
    "###\n",
    "# YOUR CODE HERE\n",
    "###"
   ]
  },
  {
   "cell_type": "markdown",
   "metadata": {},
   "source": [
    "<h3 style=\"text-align:left;\">Exercise 4 - .xs() vs. .loc - on paper <span style=\"float: right\">2 points</span></h3>\n",
    "\n",
    "Consider the following DataFrame:"
   ]
  },
  {
   "cell_type": "code",
   "execution_count": 34,
   "metadata": {
    "ExecuteTime": {
     "end_time": "2025-03-19T19:44:13.550850Z",
     "start_time": "2025-03-19T19:44:13.297757Z"
    }
   },
   "outputs": [
    {
     "data": {
      "application/vnd.microsoft.datawrangler.viewer.v0+json": {
       "columns": [
        {
         "name": "('Date', 'Ticker')",
         "rawType": "object",
         "type": "unknown"
        },
        {
         "name": "Open",
         "rawType": "float64",
         "type": "float"
        },
        {
         "name": "High",
         "rawType": "float64",
         "type": "float"
        },
        {
         "name": "Low",
         "rawType": "float64",
         "type": "float"
        },
        {
         "name": "Close",
         "rawType": "float64",
         "type": "float"
        },
        {
         "name": "Volume",
         "rawType": "int64",
         "type": "integer"
        }
       ],
       "conversionMethod": "pd.DataFrame",
       "ref": "c041da74-6e71-4e91-87d6-d3668c7c10e6",
       "rows": [
        [
         "('2018-01-02', 'AAPL')",
         "39.98635682936786",
         "40.48924104050735",
         "39.77486125780028",
         "40.47983932495117",
         "102223600"
        ],
        [
         "('2018-01-02', 'GOOGL')",
         "52.40047527349359",
         "53.543011638081616",
         "52.40047527349359",
         "53.40517044067383",
         "31766000"
        ],
        [
         "('2018-01-02', 'MSFT')",
         "79.64061284938298",
         "79.80705119925423",
         "79.05808215211601",
         "79.47417449951172",
         "22483800"
        ],
        [
         "('2018-01-03', 'AAPL')",
         "40.54328064545994",
         "41.0179667910744",
         "40.40933670273748",
         "40.472782135009766",
         "118071600"
        ],
        [
         "('2018-01-03', 'GOOGL')",
         "53.44100198310784",
         "54.544228982927415",
         "53.41612321520075",
         "54.31631851196289",
         "31318000"
        ],
        [
         "('2018-01-03', 'MSFT')",
         "79.5758660334768",
         "79.99196532467292",
         "79.49265040797539",
         "79.8440170288086",
         "26061400"
        ],
        [
         "('2018-01-04', 'AAPL')",
         "40.54563035600941",
         "40.76417538562877",
         "40.43753574472939",
         "40.6607780456543",
         "89738400"
        ],
        [
         "('2018-01-04', 'GOOGL')",
         "54.5934907920461",
         "54.94132655368835",
         "54.45266550573435",
         "54.527305603027344",
         "26052000"
        ],
        [
         "('2018-01-04', 'MSFT')",
         "80.06592046507883",
         "81.05530867319985",
         "80.04743045813767",
         "80.54674530029297",
         "21912000"
        ],
        [
         "('2018-01-05', 'AAPL')",
         "40.75713404190461",
         "41.21066822709516",
         "40.665487033276754",
         "41.123722076416016",
         "94640000"
        ],
        [
         "('2018-01-05', 'GOOGL')",
         "54.90997919575",
         "55.414069413897295",
         "54.82787129109952",
         "55.25035095214844",
         "30250000"
        ],
        [
         "('2018-01-05', 'MSFT')",
         "81.05533604993003",
         "81.74882794472589",
         "80.84266209818432",
         "81.54540252685547",
         "23407100"
        ],
        [
         "('2018-01-08', 'AAPL')",
         "40.970985412597656",
         "41.2670749724046",
         "40.87228530695738",
         "40.970985412597656",
         "82271200"
        ],
        [
         "('2018-01-08', 'GOOGL')",
         "55.285679617799445",
         "55.69173920189661",
         "55.2359182885604",
         "55.44541549682617",
         "24644000"
        ],
        [
         "('2018-01-08', 'MSFT')",
         "81.55461930535543",
         "81.90599294055109",
         "80.99982736846393",
         "81.62859344482422",
         "22113000"
        ],
        [
         "('2018-01-09', 'AAPL')",
         "41.01797675734986",
         "41.13782174424207",
         "40.75008522111124",
         "40.96627807617188",
         "86336000"
        ],
        [
         "('2018-01-09', 'GOOGL')",
         "55.65591288308646",
         "55.65591288308646",
         "55.14634804825195",
         "55.374755859375",
         "26808000"
        ],
        [
         "('2018-01-09', 'MSFT')",
         "81.97070698374296",
         "82.04468111277477",
         "81.24022833231646",
         "81.57310485839844",
         "19484300"
        ],
        [
         "('2018-01-10', 'AAPL')",
         "40.69133933281127",
         "40.9592308841068",
         "40.65373963789506",
         "40.956878662109375",
         "95839600"
        ],
        [
         "('2018-01-10', 'GOOGL')",
         "55.08663114150458",
         "55.37425747451425",
         "54.936352456980806",
         "55.24288558959961",
         "20734000"
        ],
        [
         "('2018-01-10', 'MSFT')",
         "81.24026466894988",
         "81.54540279676549",
         "80.82417235252088",
         "81.20327758789062",
         "18652200"
        ],
        [
         "('2018-01-11', 'AAPL')",
         "41.02736864709842",
         "41.23886419766653",
         "41.003871531948754",
         "41.18951416015625",
         "74670800"
        ],
        [
         "('2018-01-11', 'GOOGL')",
         "55.35087121590882",
         "55.47726582994094",
         "55.060758142760186",
         "55.33793258666992",
         "22424000"
        ],
        [
         "('2018-01-11', 'MSFT')",
         "81.48989309668704",
         "81.48989309668704",
         "80.66695020120483",
         "81.44366455078125",
         "17808900"
        ],
        [
         "('2018-01-12', 'AAPL')",
         "41.401004910477496",
         "41.678298112455614",
         "41.27645908815704",
         "41.61484909057617",
         "101672400"
        ],
        [
         "('2018-01-12', 'GOOGL')",
         "55.240896749478",
         "56.29585061961878",
         "55.13689416440777",
         "56.26350784301758",
         "38586000"
        ],
        [
         "('2018-01-12', 'MSFT')",
         "81.98922150424957",
         "83.0155899241357",
         "81.7857961158666",
         "82.84915161132812",
         "24271500"
        ],
        [
         "('2018-01-16', 'AAPL')",
         "41.80520931783372",
         "42.15534981060231",
         "41.3916233634726",
         "41.40337371826172",
         "118263600"
        ],
        [
         "('2018-01-16', 'GOOGL')",
         "56.74420798172111",
         "57.170670216908654",
         "56.06495651607904",
         "56.265995025634766",
         "36462000"
        ],
        [
         "('2018-01-16', 'MSFT')",
         "83.31149187707643",
         "83.94950668024973",
         "81.37896450886227",
         "81.69334411621094",
         "36599700"
        ],
        [
         "('2018-01-17', 'AAPL')",
         "41.393957474167365",
         "42.12243618699658",
         "41.140168545447295",
         "42.087188720703125",
         "137547200"
        ],
        [
         "('2018-01-17', 'GOOGL')",
         "56.54764894969218",
         "56.6949435504435",
         "55.90720958064976",
         "56.68399810791016",
         "27830000"
        ],
        [
         "('2018-01-17', 'MSFT')",
         "82.36832463299343",
         "83.47790855934845",
         "82.06318658414891",
         "83.34845733642578",
         "25621200"
        ],
        [
         "('2018-01-18', 'AAPL')",
         "42.15063571508985",
         "42.32218295258978",
         "41.88744506184593",
         "42.124786376953125",
         "124773600"
        ],
        [
         "('2018-01-18', 'GOOGL')",
         "56.69643478874569",
         "56.7581400523498",
         "55.95547807450469",
         "56.52824020385742",
         "27498000"
        ],
        [
         "('2018-01-18', 'MSFT')",
         "83.03410039018276",
         "83.83854648644713",
         "82.90464913205827",
         "83.31149291992188",
         "24159700"
        ],
        [
         "('2018-01-19', 'AAPL')",
         "41.97205320161995",
         "42.19999644500981",
         "41.690062632327695",
         "41.936805725097656",
         "129700400"
        ],
        [
         "('2018-01-19', 'GOOGL')",
         "56.63075310702795",
         "56.91688361159748",
         "56.35556804529305",
         "56.902950286865234",
         "30552000"
        ],
        [
         "('2018-01-19', 'MSFT')",
         "83.34847590997298",
         "83.78306527858496",
         "82.9046450623518",
         "83.21902465820312",
         "36875000"
        ],
        [
         "('2018-01-22', 'AAPL')",
         "41.66420656570535",
         "41.77700205808335",
         "41.49971239229909",
         "41.59370803833008",
         "108434400"
        ],
        [
         "('2018-01-22', 'GOOGL')",
         "56.91887489216395",
         "58.06638855045566",
         "56.8193484355909",
         "57.931034088134766",
         "29550000"
        ],
        [
         "('2018-01-22', 'MSFT')",
         "83.21901400673879",
         "84.71695879850284",
         "82.97860154655272",
         "84.70771026611328",
         "23601600"
        ],
        [
         "('2018-01-23', 'AAPL')",
         "41.66419639043257",
         "42.167080503862",
         "41.5514009256016",
         "41.60309600830078",
         "130756400"
        ],
        [
         "('2018-01-23', 'GOOGL')",
         "58.2524953313163",
         "58.645118945615685",
         "58.08479809232796",
         "58.5286750793457",
         "39138000"
        ],
        [
         "('2018-01-23', 'MSFT')",
         "84.97586822509766",
         "85.34573195076203",
         "84.64299157745609",
         "84.97586822509766",
         "23412800"
        ],
        [
         "('2018-01-24', 'AAPL')",
         "41.65244565950427",
         "41.66419600870682",
         "40.70072474534817",
         "40.9404182434082",
         "204420400"
        ],
        [
         "('2018-01-24', 'GOOGL')",
         "58.96708375380111",
         "59.07009164771198",
         "58.09226457517757",
         "58.28583908081055",
         "37128000"
        ],
        [
         "('2018-01-24', 'MSFT')",
         "85.5768954405483",
         "86.39058998901422",
         "84.67997820333446",
         "84.90189361572266",
         "33277500"
        ],
        [
         "('2018-01-25', 'AAPL')",
         "41.00858001831142",
         "41.11197739321624",
         "40.073309956980175",
         "40.2096061706543",
         "166116000"
        ],
        [
         "('2018-01-25', 'GOOGL')",
         "58.75459740741114",
         "58.96807720071806",
         "58.313207148658606",
         "58.82575607299805",
         "29984000"
        ]
       ],
       "shape": {
        "columns": 5,
        "rows": 3777
       }
      },
      "text/html": [
       "<div>\n",
       "<style scoped>\n",
       "    .dataframe tbody tr th:only-of-type {\n",
       "        vertical-align: middle;\n",
       "    }\n",
       "\n",
       "    .dataframe tbody tr th {\n",
       "        vertical-align: top;\n",
       "    }\n",
       "\n",
       "    .dataframe thead th {\n",
       "        text-align: right;\n",
       "    }\n",
       "</style>\n",
       "<table border=\"1\" class=\"dataframe\">\n",
       "  <thead>\n",
       "    <tr style=\"text-align: right;\">\n",
       "      <th></th>\n",
       "      <th></th>\n",
       "      <th>Open</th>\n",
       "      <th>High</th>\n",
       "      <th>Low</th>\n",
       "      <th>Close</th>\n",
       "      <th>Volume</th>\n",
       "    </tr>\n",
       "    <tr>\n",
       "      <th>Date</th>\n",
       "      <th>Ticker</th>\n",
       "      <th></th>\n",
       "      <th></th>\n",
       "      <th></th>\n",
       "      <th></th>\n",
       "      <th></th>\n",
       "    </tr>\n",
       "  </thead>\n",
       "  <tbody>\n",
       "    <tr>\n",
       "      <th rowspan=\"3\" valign=\"top\">2018-01-02</th>\n",
       "      <th>AAPL</th>\n",
       "      <td>39.986357</td>\n",
       "      <td>40.489241</td>\n",
       "      <td>39.774861</td>\n",
       "      <td>40.479839</td>\n",
       "      <td>102223600</td>\n",
       "    </tr>\n",
       "    <tr>\n",
       "      <th>GOOGL</th>\n",
       "      <td>52.400475</td>\n",
       "      <td>53.543012</td>\n",
       "      <td>52.400475</td>\n",
       "      <td>53.405170</td>\n",
       "      <td>31766000</td>\n",
       "    </tr>\n",
       "    <tr>\n",
       "      <th>MSFT</th>\n",
       "      <td>79.640613</td>\n",
       "      <td>79.807051</td>\n",
       "      <td>79.058082</td>\n",
       "      <td>79.474174</td>\n",
       "      <td>22483800</td>\n",
       "    </tr>\n",
       "    <tr>\n",
       "      <th rowspan=\"2\" valign=\"top\">2018-01-03</th>\n",
       "      <th>AAPL</th>\n",
       "      <td>40.543281</td>\n",
       "      <td>41.017967</td>\n",
       "      <td>40.409337</td>\n",
       "      <td>40.472782</td>\n",
       "      <td>118071600</td>\n",
       "    </tr>\n",
       "    <tr>\n",
       "      <th>GOOGL</th>\n",
       "      <td>53.441002</td>\n",
       "      <td>54.544229</td>\n",
       "      <td>53.416123</td>\n",
       "      <td>54.316319</td>\n",
       "      <td>31318000</td>\n",
       "    </tr>\n",
       "    <tr>\n",
       "      <th>...</th>\n",
       "      <th>...</th>\n",
       "      <td>...</td>\n",
       "      <td>...</td>\n",
       "      <td>...</td>\n",
       "      <td>...</td>\n",
       "      <td>...</td>\n",
       "    </tr>\n",
       "    <tr>\n",
       "      <th rowspan=\"2\" valign=\"top\">2022-12-29</th>\n",
       "      <th>GOOGL</th>\n",
       "      <td>86.207842</td>\n",
       "      <td>88.427227</td>\n",
       "      <td>86.197888</td>\n",
       "      <td>88.029129</td>\n",
       "      <td>23333500</td>\n",
       "    </tr>\n",
       "    <tr>\n",
       "      <th>MSFT</th>\n",
       "      <td>231.381200</td>\n",
       "      <td>237.537623</td>\n",
       "      <td>231.381200</td>\n",
       "      <td>236.644104</td>\n",
       "      <td>19770700</td>\n",
       "    </tr>\n",
       "    <tr>\n",
       "      <th rowspan=\"3\" valign=\"top\">2022-12-30</th>\n",
       "      <th>AAPL</th>\n",
       "      <td>126.934142</td>\n",
       "      <td>128.456435</td>\n",
       "      <td>125.965402</td>\n",
       "      <td>128.436661</td>\n",
       "      <td>77034200</td>\n",
       "    </tr>\n",
       "    <tr>\n",
       "      <th>GOOGL</th>\n",
       "      <td>86.566129</td>\n",
       "      <td>87.879847</td>\n",
       "      <td>86.158076</td>\n",
       "      <td>87.810181</td>\n",
       "      <td>23986300</td>\n",
       "    </tr>\n",
       "    <tr>\n",
       "      <th>MSFT</th>\n",
       "      <td>233.894827</td>\n",
       "      <td>235.613126</td>\n",
       "      <td>232.372902</td>\n",
       "      <td>235.475662</td>\n",
       "      <td>21938500</td>\n",
       "    </tr>\n",
       "  </tbody>\n",
       "</table>\n",
       "<p>3777 rows × 5 columns</p>\n",
       "</div>"
      ],
      "text/plain": [
       "                         Open        High         Low       Close     Volume\n",
       "Date       Ticker                                                           \n",
       "2018-01-02 AAPL     39.986357   40.489241   39.774861   40.479839  102223600\n",
       "           GOOGL    52.400475   53.543012   52.400475   53.405170   31766000\n",
       "           MSFT     79.640613   79.807051   79.058082   79.474174   22483800\n",
       "2018-01-03 AAPL     40.543281   41.017967   40.409337   40.472782  118071600\n",
       "           GOOGL    53.441002   54.544229   53.416123   54.316319   31318000\n",
       "...                       ...         ...         ...         ...        ...\n",
       "2022-12-29 GOOGL    86.207842   88.427227   86.197888   88.029129   23333500\n",
       "           MSFT    231.381200  237.537623  231.381200  236.644104   19770700\n",
       "2022-12-30 AAPL    126.934142  128.456435  125.965402  128.436661   77034200\n",
       "           GOOGL    86.566129   87.879847   86.158076   87.810181   23986300\n",
       "           MSFT    233.894827  235.613126  232.372902  235.475662   21938500\n",
       "\n",
       "[3777 rows x 5 columns]"
      ]
     },
     "execution_count": 34,
     "metadata": {},
     "output_type": "execute_result"
    }
   ],
   "source": [
    "import pandas as pd\n",
    "data = pd.read_csv('./data/stock_data.csv')\n",
    "data = data.set_index([\"Date\", \"Ticker\"])\n",
    "data"
   ]
  },
  {
   "cell_type": "markdown",
   "metadata": {},
   "source": [
    "1. Select the data for the company 'GOOGL' using the `.xs()` method.\n",
    "2. Select the data for the company 'AAPL' and the date '2022-12-30' using the `.xs()` method\n",
    "3. What would the equivalent be using the `.loc` method?\n",
    "4. What are the main differences between the two methods?\n",
    "5. When would you use one over the other?\n",
    "6. How would you pllot the 'Close' price for the company 'AAPL' using the `.xs()` method and matplotlib? Write the code and then check your implementation in your Jupyter Notebook."
   ]
  }
 ],
 "metadata": {
  "kernelspec": {
   "display_name": ".venv (3.11.5)",
   "language": "python",
   "name": "python3"
  },
  "language_info": {
   "codemirror_mode": {
    "name": "ipython",
    "version": 3
   },
   "file_extension": ".py",
   "mimetype": "text/x-python",
   "name": "python",
   "nbconvert_exporter": "python",
   "pygments_lexer": "ipython3",
   "version": "3.11.5"
  }
 },
 "nbformat": 4,
 "nbformat_minor": 2
}
